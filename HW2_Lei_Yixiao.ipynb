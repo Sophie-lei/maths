{
 "cells": [
  {
   "cell_type": "markdown",
   "metadata": {},
   "source": [
    "<a id='top'></a>\n",
    "\n",
    "# CSCI3022 S21\n",
    "# Homework 2: Data Wrangling and Visualizations\n",
    "***\n",
    "\n",
    "**Name**: Sophie Lei\n",
    "\n",
    "***\n",
    "\n",
    "This assignment is due on Canvas by **MIDNIGHT on Monday, February 8**. Your solutions to theoretical questions should be done in Markdown directly below the associated question.  Your solutions to computational questions should include any specified Python code and results as well as written commentary on your conclusions.  Remember that you are encouraged to discuss the problems with your classmates, but **you must write all code and solutions on your own**.\n",
    "\n",
    "**NOTES**: \n",
    "\n",
    "- Any relevant data sets should be available on Canvas. To make life easier on the graders if they need to run your code, do not change the relative path names here. Instead, move the files around on your computer.\n",
    "- If you're not familiar with typesetting math directly into Markdown then by all means, do your work on paper first and then typeset it later.  Here is a [reference guide](https://math.meta.stackexchange.com/questions/5020/mathjax-basic-tutorial-and-quick-reference) linked on Canvas on writing math in Markdown. **All** of your written commentary, justifications and mathematical work should be in Markdown.  I also recommend the [wikibook](https://en.wikibooks.org/wiki/LaTeX) for LaTex.\n",
    "- Because you can technically evaluate notebook cells is a non-linear order, it's a good idea to do **Kernel $\\rightarrow$ Restart & Run All** as a check before submitting your solutions.  That way if we need to run your code you will know that it will work as expected. \n",
    "- It is **bad form** to make your reader interpret numerical output from your code.  If a question asks you to compute some value from the data you should show your code output **AND** write a summary of the results in Markdown directly below your code. \n",
    "- 95 points of this assignment are in problems.  The remaining 5 are for neatness, style, and overall exposition of both code and text.\n",
    "- This probably goes without saying, but... For any question that asks you to calculate something, you **must show all work and justify your answers to receive credit**. Sparse or nonexistent work will receive sparse or nonexistent credit. \n",
    "\n",
    "---\n",
    "**Shortcuts:**  [Problem 1](#p1) | [Problem 2](#p2) |\n",
    "---"
   ]
  },
  {
   "cell_type": "code",
   "execution_count": 1,
   "metadata": {},
   "outputs": [],
   "source": [
    "import pandas as pd\n",
    "import numpy as np\n",
    "import matplotlib.pylab as plt\n",
    "%matplotlib inline"
   ]
  },
  {
   "cell_type": "markdown",
   "metadata": {},
   "source": [
    "[Back to top](#top)\n",
    "\n",
    "<a id='p1'></a>\n",
    "\n",
    "## (25 pts) Problem 1: Data (Probability and Histograms)\n",
    "*** \n",
    "The sinking of the RMS Titanic was a terrible tragedy that saw the loss of many lives. Even within this tragedy, thanks to the combinations of the records of the White Star Line and the thorough nature of follow-up research after the accident we have some records that can help us try to piece together the course of events on board the ship. Many of the historians and other researchers who have investigated this event have speculated as to what exactly happened.\n",
    "\n",
    "We have the data on survival rates by class, gender, and age, so let's figure out whether there is evidence for some of these scenarios. Access the Titanic data in `titanic_data.csv` and store it in a Pandas DataFrame. The data contains information pertaining to class status (**Pclass**), survival (**Survived**), and gender (**Sex**) of passengers, among other things. Be sure to use the `titanic_data.csv` data set, *not* the `clean_titanic_data` file or `dirty_titanic_data` file from the in-class notebook exercises."
   ]
  },
  {
   "cell_type": "code",
   "execution_count": 2,
   "metadata": {},
   "outputs": [
    {
     "data": {
      "text/html": [
       "<div>\n",
       "<style scoped>\n",
       "    .dataframe tbody tr th:only-of-type {\n",
       "        vertical-align: middle;\n",
       "    }\n",
       "\n",
       "    .dataframe tbody tr th {\n",
       "        vertical-align: top;\n",
       "    }\n",
       "\n",
       "    .dataframe thead th {\n",
       "        text-align: right;\n",
       "    }\n",
       "</style>\n",
       "<table border=\"1\" class=\"dataframe\">\n",
       "  <thead>\n",
       "    <tr style=\"text-align: right;\">\n",
       "      <th></th>\n",
       "      <th>PassengerId</th>\n",
       "      <th>Survived</th>\n",
       "      <th>Pclass</th>\n",
       "      <th>Name</th>\n",
       "      <th>Sex</th>\n",
       "      <th>Age</th>\n",
       "      <th>SibSp</th>\n",
       "      <th>Parch</th>\n",
       "      <th>Ticket</th>\n",
       "      <th>Fare</th>\n",
       "      <th>Cabin</th>\n",
       "      <th>Embarked</th>\n",
       "    </tr>\n",
       "  </thead>\n",
       "  <tbody>\n",
       "    <tr>\n",
       "      <th>0</th>\n",
       "      <td>1</td>\n",
       "      <td>0</td>\n",
       "      <td>3</td>\n",
       "      <td>Braund, Mr. Owen Harris</td>\n",
       "      <td>male</td>\n",
       "      <td>36.0</td>\n",
       "      <td>1</td>\n",
       "      <td>0</td>\n",
       "      <td>A/5 21171</td>\n",
       "      <td>7.2500</td>\n",
       "      <td>NaN</td>\n",
       "      <td>S</td>\n",
       "    </tr>\n",
       "    <tr>\n",
       "      <th>1</th>\n",
       "      <td>2</td>\n",
       "      <td>1</td>\n",
       "      <td>1</td>\n",
       "      <td>Cumings, Mrs. John Bradley (Florence Briggs Th...</td>\n",
       "      <td>female</td>\n",
       "      <td>18.0</td>\n",
       "      <td>1</td>\n",
       "      <td>0</td>\n",
       "      <td>PC 17599</td>\n",
       "      <td>71.2833</td>\n",
       "      <td>C85</td>\n",
       "      <td>C</td>\n",
       "    </tr>\n",
       "    <tr>\n",
       "      <th>2</th>\n",
       "      <td>3</td>\n",
       "      <td>1</td>\n",
       "      <td>3</td>\n",
       "      <td>Heikkinen, Miss. Laina</td>\n",
       "      <td>female</td>\n",
       "      <td>14.0</td>\n",
       "      <td>0</td>\n",
       "      <td>0</td>\n",
       "      <td>STON/O2. 3101282</td>\n",
       "      <td>7.9250</td>\n",
       "      <td>NaN</td>\n",
       "      <td>S</td>\n",
       "    </tr>\n",
       "    <tr>\n",
       "      <th>3</th>\n",
       "      <td>4</td>\n",
       "      <td>1</td>\n",
       "      <td>1</td>\n",
       "      <td>Futrelle, Mrs. Jacques Heath (Lily May Peel)</td>\n",
       "      <td>female</td>\n",
       "      <td>27.0</td>\n",
       "      <td>1</td>\n",
       "      <td>0</td>\n",
       "      <td>113803</td>\n",
       "      <td>53.1000</td>\n",
       "      <td>C123</td>\n",
       "      <td>S</td>\n",
       "    </tr>\n",
       "    <tr>\n",
       "      <th>4</th>\n",
       "      <td>5</td>\n",
       "      <td>0</td>\n",
       "      <td>3</td>\n",
       "      <td>Allen, Mr. William Henry</td>\n",
       "      <td>male</td>\n",
       "      <td>63.0</td>\n",
       "      <td>0</td>\n",
       "      <td>0</td>\n",
       "      <td>373450</td>\n",
       "      <td>8.0500</td>\n",
       "      <td>NaN</td>\n",
       "      <td>S</td>\n",
       "    </tr>\n",
       "  </tbody>\n",
       "</table>\n",
       "</div>"
      ],
      "text/plain": [
       "   PassengerId  Survived  Pclass  \\\n",
       "0            1         0       3   \n",
       "1            2         1       1   \n",
       "2            3         1       3   \n",
       "3            4         1       1   \n",
       "4            5         0       3   \n",
       "\n",
       "                                                Name     Sex   Age  SibSp  \\\n",
       "0                            Braund, Mr. Owen Harris    male  36.0      1   \n",
       "1  Cumings, Mrs. John Bradley (Florence Briggs Th...  female  18.0      1   \n",
       "2                             Heikkinen, Miss. Laina  female  14.0      0   \n",
       "3       Futrelle, Mrs. Jacques Heath (Lily May Peel)  female  27.0      1   \n",
       "4                           Allen, Mr. William Henry    male  63.0      0   \n",
       "\n",
       "   Parch            Ticket     Fare Cabin Embarked  \n",
       "0      0         A/5 21171   7.2500   NaN        S  \n",
       "1      0          PC 17599  71.2833   C85        C  \n",
       "2      0  STON/O2. 3101282   7.9250   NaN        S  \n",
       "3      0            113803  53.1000  C123        S  \n",
       "4      0            373450   8.0500   NaN        S  "
      ]
     },
     "execution_count": 2,
     "metadata": {},
     "output_type": "execute_result"
    }
   ],
   "source": [
    "filepath = 'titanic_data.csv'\n",
    "df = pd.read_csv(filepath)\n",
    "df.head()"
   ]
  },
  {
   "cell_type": "markdown",
   "metadata": {},
   "source": [
    "**Part A**:\n",
    "Based on the overall population of passengers, report the probability of survival.\n",
    "\n",
    "$$P(Survived=1)$$"
   ]
  },
  {
   "cell_type": "code",
   "execution_count": 3,
   "metadata": {},
   "outputs": [
    {
     "name": "stdout",
     "output_type": "stream",
     "text": [
      "891\n",
      "The probability of survival is 39.3%\n"
     ]
    }
   ],
   "source": [
    "people_survived=df['Survived'].sum()\n",
    "people_total=len(df['PassengerId'])\n",
    "print(people_total)\n",
    "probability_survived=people_survived/people_total\n",
    "print(\"The probability of survival is {0:.1f}%\".format(100*probability_survived))"
   ]
  },
  {
   "cell_type": "markdown",
   "metadata": {},
   "source": [
    "**Part B**: \n",
    "Some claim that the final hours aboard the RMS Titanic were marked by \"class warfare\" in which the people with first-class tickets took all the good spots on the lifeboats; others claim that the final hours were characterized by male chivalry, in which the men valiantly gave up their positions in the boats and succumbed bravely to the depths of the Atlantic. \n",
    "\n",
    "Consider the two claims: class warfare, and male chivalry. Suppose that class warfare occurred in the final hours aboard the Titanic.  What patterns might you expect to see in the data?  Suppose that male chivalry was widespread during the final hours instead. What patterns might you then expect to see in the data?  Explain both of these hypothesized patterns in words. Are these two hypotheses mutually exclusive or not?"
   ]
  },
  {
   "cell_type": "markdown",
   "metadata": {},
   "source": [
    "if class warfare happened, the probability of First-class people survival, which is the population of survived\n",
    "first-class people devide by the total survived population, maybe has high percentage.\n",
    "$$P(Probability of First class people of survival)=\\frac{First class people \\cap survived}{survived}$$\n",
    "\n",
    "if male chivalry happened, the probability of Female and children survival, which is the population of survived\n",
    "Female and children devide by the total survived population, maybe has high percentage.\n",
    "$$P(Probability of Female and children survival)=\\frac{(Female +children) \\cap survived}{survived}$$\n",
    "\n",
    "This two Hypotheses is not mutually exclusive, because there are Intersection of First class people set and man people set."
   ]
  },
  {
   "cell_type": "markdown",
   "metadata": {},
   "source": [
    "**Part C**: Use Pandas methods to create a clean data set by removing any rows from the DataFrame that are missing values corresponding to **Survived**, **Pclass**, **Age**, or **Sex**. Store the clean data in a DataFrame called dfTitanic. Be sure to show any exploratory work determining if/where there are rows with missing values. _HINT: There should be 714 rows in your cleaned data set._"
   ]
  },
  {
   "cell_type": "code",
   "execution_count": 4,
   "metadata": {},
   "outputs": [
    {
     "data": {
      "text/html": [
       "<div>\n",
       "<style scoped>\n",
       "    .dataframe tbody tr th:only-of-type {\n",
       "        vertical-align: middle;\n",
       "    }\n",
       "\n",
       "    .dataframe tbody tr th {\n",
       "        vertical-align: top;\n",
       "    }\n",
       "\n",
       "    .dataframe thead th {\n",
       "        text-align: right;\n",
       "    }\n",
       "</style>\n",
       "<table border=\"1\" class=\"dataframe\">\n",
       "  <thead>\n",
       "    <tr style=\"text-align: right;\">\n",
       "      <th></th>\n",
       "      <th>PassengerId</th>\n",
       "      <th>Survived</th>\n",
       "      <th>Pclass</th>\n",
       "      <th>Name</th>\n",
       "      <th>Sex</th>\n",
       "      <th>Age</th>\n",
       "      <th>SibSp</th>\n",
       "      <th>Parch</th>\n",
       "      <th>Ticket</th>\n",
       "      <th>Fare</th>\n",
       "      <th>Cabin</th>\n",
       "      <th>Embarked</th>\n",
       "    </tr>\n",
       "  </thead>\n",
       "  <tbody>\n",
       "    <tr>\n",
       "      <th>0</th>\n",
       "      <td>1</td>\n",
       "      <td>0</td>\n",
       "      <td>3</td>\n",
       "      <td>Braund, Mr. Owen Harris</td>\n",
       "      <td>male</td>\n",
       "      <td>36.0</td>\n",
       "      <td>1</td>\n",
       "      <td>0</td>\n",
       "      <td>A/5 21171</td>\n",
       "      <td>7.2500</td>\n",
       "      <td>NaN</td>\n",
       "      <td>S</td>\n",
       "    </tr>\n",
       "    <tr>\n",
       "      <th>1</th>\n",
       "      <td>2</td>\n",
       "      <td>1</td>\n",
       "      <td>1</td>\n",
       "      <td>Cumings, Mrs. John Bradley (Florence Briggs Th...</td>\n",
       "      <td>female</td>\n",
       "      <td>18.0</td>\n",
       "      <td>1</td>\n",
       "      <td>0</td>\n",
       "      <td>PC 17599</td>\n",
       "      <td>71.2833</td>\n",
       "      <td>C85</td>\n",
       "      <td>C</td>\n",
       "    </tr>\n",
       "    <tr>\n",
       "      <th>2</th>\n",
       "      <td>3</td>\n",
       "      <td>1</td>\n",
       "      <td>3</td>\n",
       "      <td>Heikkinen, Miss. Laina</td>\n",
       "      <td>female</td>\n",
       "      <td>14.0</td>\n",
       "      <td>0</td>\n",
       "      <td>0</td>\n",
       "      <td>STON/O2. 3101282</td>\n",
       "      <td>7.9250</td>\n",
       "      <td>NaN</td>\n",
       "      <td>S</td>\n",
       "    </tr>\n",
       "    <tr>\n",
       "      <th>3</th>\n",
       "      <td>4</td>\n",
       "      <td>1</td>\n",
       "      <td>1</td>\n",
       "      <td>Futrelle, Mrs. Jacques Heath (Lily May Peel)</td>\n",
       "      <td>female</td>\n",
       "      <td>27.0</td>\n",
       "      <td>1</td>\n",
       "      <td>0</td>\n",
       "      <td>113803</td>\n",
       "      <td>53.1000</td>\n",
       "      <td>C123</td>\n",
       "      <td>S</td>\n",
       "    </tr>\n",
       "    <tr>\n",
       "      <th>4</th>\n",
       "      <td>5</td>\n",
       "      <td>0</td>\n",
       "      <td>3</td>\n",
       "      <td>Allen, Mr. William Henry</td>\n",
       "      <td>male</td>\n",
       "      <td>63.0</td>\n",
       "      <td>0</td>\n",
       "      <td>0</td>\n",
       "      <td>373450</td>\n",
       "      <td>8.0500</td>\n",
       "      <td>NaN</td>\n",
       "      <td>S</td>\n",
       "    </tr>\n",
       "  </tbody>\n",
       "</table>\n",
       "</div>"
      ],
      "text/plain": [
       "   PassengerId  Survived  Pclass  \\\n",
       "0            1         0       3   \n",
       "1            2         1       1   \n",
       "2            3         1       3   \n",
       "3            4         1       1   \n",
       "4            5         0       3   \n",
       "\n",
       "                                                Name     Sex   Age  SibSp  \\\n",
       "0                            Braund, Mr. Owen Harris    male  36.0      1   \n",
       "1  Cumings, Mrs. John Bradley (Florence Briggs Th...  female  18.0      1   \n",
       "2                             Heikkinen, Miss. Laina  female  14.0      0   \n",
       "3       Futrelle, Mrs. Jacques Heath (Lily May Peel)  female  27.0      1   \n",
       "4                           Allen, Mr. William Henry    male  63.0      0   \n",
       "\n",
       "   Parch            Ticket     Fare Cabin Embarked  \n",
       "0      0         A/5 21171   7.2500   NaN        S  \n",
       "1      0          PC 17599  71.2833   C85        C  \n",
       "2      0  STON/O2. 3101282   7.9250   NaN        S  \n",
       "3      0            113803  53.1000  C123        S  \n",
       "4      0            373450   8.0500   NaN        S  "
      ]
     },
     "execution_count": 4,
     "metadata": {},
     "output_type": "execute_result"
    }
   ],
   "source": [
    "dfTitanic=df.copy()\n",
    "dfTitanic.dropna(subset=['Age'],inplace=True)\n",
    "dfTitanic.dropna(subset=['Sex'],inplace=True)\n",
    "dfTitanic.dropna(subset=['Pclass'],inplace=True)\n",
    "dfTitanic.dropna(subset=['Survived'],inplace=True)\n",
    "people_total=len(dfTitanic['PassengerId'])\n",
    "dfTitanic.head()"
   ]
  },
  {
   "cell_type": "markdown",
   "metadata": {},
   "source": [
    "**Part D**: Compute the probability of survival according to class, gender, and all combinations of the two variables.  Then, answer the following questions:\n",
    "* **(i)** When reviewing class survival probability, how do the results compare to the base survival probability results from **Part A**?\n",
    "* **(ii)** When reviewing gender survival probability, how do the results compare to the base survival probability results from **Part A**?\n",
    "* **(iii)** Within each passenger class, were men or women more/less/equally likely to survive?\n",
    "* **(iv)**  Did men in first class or women in third class have a higher survival probability?\n"
   ]
  },
  {
   "cell_type": "code",
   "execution_count": 5,
   "metadata": {},
   "outputs": [
    {
     "name": "stdout",
     "output_type": "stream",
     "text": [
      "first Class survival probability is 15.1%\n",
      "second Class survival probability is 9.8%\n",
      "third Class survival probability is 14.1%\n",
      "male survival probability is 12.7%\n",
      "female survival probability is 26.3%\n",
      "female survival probability within firstclass is 10.1%\n",
      "male survival probability within firstclass is 5.0%\n",
      "female survival probability within second class is 7.6%\n",
      "male survival probability within second class is 2.2%\n",
      "female survival probability within third class is 8.7%\n",
      "male survival probability within third class is 5.5%\n"
     ]
    }
   ],
   "source": [
    "first_class=dfTitanic.loc[dfTitanic['Pclass']==1,'Survived'].sum()\n",
    "people_total=len(dfTitanic['PassengerId'])\n",
    "P_C1=first_class/people_total\n",
    "print(\"first Class survival probability is {0:.1f}%\".format(100*P_C1))\n",
    "\n",
    "second_class=dfTitanic.loc[dfTitanic['Pclass']==2,'Survived'].sum()\n",
    "people_total=len(dfTitanic['PassengerId'])\n",
    "P_C2=second_class/people_total\n",
    "print(\"second Class survival probability is {0:.1f}%\".format(100*P_C2))\n",
    "\n",
    "third_class=dfTitanic.loc[dfTitanic['Pclass']==3,'Survived'].sum()\n",
    "people_total=len(dfTitanic['PassengerId'])\n",
    "P_C3=third_class/people_total\n",
    "print(\"third Class survival probability is {0:.1f}%\".format(100*P_C3))\n",
    "\n",
    "gender=dfTitanic.loc[dfTitanic['Sex']=='male','Survived'].sum()\n",
    "people_total=len(dfTitanic['PassengerId'])\n",
    "G_C=gender/people_total\n",
    "print(\"male survival probability is {0:.1f}%\".format(100*G_C))\n",
    "\n",
    "genderf=dfTitanic.loc[dfTitanic['Sex']=='female','Survived'].sum()\n",
    "people_total=len(dfTitanic['PassengerId'])\n",
    "G_Cf=genderf/people_total\n",
    "print(\"female survival probability is {0:.1f}%\".format(100*G_Cf))\n",
    "\n",
    "fc=(dfTitanic['Pclass']==1)&(dfTitanic['Sex']=='female')\n",
    "first_classf=dfTitanic.loc[fc,'Survived'].sum()\n",
    "ptf=len(dfTitanic['Pclass']==1)\n",
    "P_C1f=first_classf/ptf\n",
    "print(\"female survival probability within firstclass is {0:.1f}%\".format(100*P_C1f))\n",
    "\n",
    "fcm=(dfTitanic['Pclass']==1)&(dfTitanic['Sex']=='male')\n",
    "first_classfm=dfTitanic.loc[fcm,'Survived'].sum()\n",
    "ptf=len(dfTitanic['Pclass']==1)\n",
    "P_C1fm=first_classfm/ptf\n",
    "print(\"male survival probability within firstclass is {0:.1f}%\".format(100*P_C1fm))\n",
    "\n",
    "sc=(dfTitanic['Pclass']==2)&(dfTitanic['Sex']=='female')\n",
    "second_classf=dfTitanic.loc[sc,'Survived'].sum()\n",
    "pts=len(dfTitanic['Pclass']==2)\n",
    "P_C2f=second_classf/pts\n",
    "print(\"female survival probability within second class is {0:.1f}%\".format(100*P_C2f))\n",
    "\n",
    "scm=(dfTitanic['Pclass']==2)&(dfTitanic['Sex']=='male')\n",
    "second_classfm=dfTitanic.loc[scm,'Survived'].sum()\n",
    "pts=len(dfTitanic['Pclass']==2)\n",
    "P_C2fm=second_classfm/pts\n",
    "print(\"male survival probability within second class is {0:.1f}%\".format(100*P_C2fm))\n",
    "\n",
    "tc=(dfTitanic['Pclass']==3)&(dfTitanic['Sex']=='female')\n",
    "third_classf=dfTitanic.loc[tc,'Survived'].sum()\n",
    "ptt=len(dfTitanic['Pclass']==3)\n",
    "P_C3f=third_classf/ptt\n",
    "print(\"female survival probability within third class is {0:.1f}%\".format(100*P_C3f))\n",
    "\n",
    "tcm=(dfTitanic['Pclass']==3)&(dfTitanic['Sex']=='male')\n",
    "third_classfm=dfTitanic.loc[tcm,'Survived'].sum()\n",
    "ptt=len(dfTitanic['Pclass']==3)\n",
    "P_C3fm=third_classfm/ptt\n",
    "print(\"male survival probability within third class is {0:.1f}%\".format(100*P_C3fm))"
   ]
  },
  {
   "cell_type": "markdown",
   "metadata": {},
   "source": [
    "* **(i)** The PartA result basically is the addition of first Class survival probability, second Class survival probability and third Class survival probability. The first class survived probability has slightly higher than other classes.\n",
    "* **(ii)**  The PartA result basically is the addition of male survival probability add female survival probability.\n",
    "* **(iii)** with in all classes. female is more likely to survive.\n",
    "* **(iv)** probility of male survived in first class is similiar to probility of male survived in third class. but relatively higher than the probility of male survival within second class. \n",
    "    probility of female survived in third class is lower than the probility of female survived in first class. but relatively higher than probility of female survived in second class. "
   ]
  },
  {
   "cell_type": "markdown",
   "metadata": {},
   "source": [
    "**Part E**: One might wonder how a passenger's age is related to the likelihood that they would survive the Titanic disaster. In addition to the \"male chivalry\" argument outlined above, you can perhaps imagine an addendum - \"women and children first!\" - as the cry to ring out across the decks. Or you might imagine the opposite - rather than \"class warfare\", it is simply healthy adults fighting to take lifeboat spots for themselves.\n",
    "\n",
    "To answer this question graphically, plot two density histograms on the same set of axes, showing the distribution of the ages of passengers who survived, and the distribution of the ages of passengers who did not. \n",
    "* Use the bin edges $[0,5,10,\\ldots,70,75,80]$ for both histograms.\n",
    "* To better distinguish between our populations, we will represent survivors with `navy` (as they were eventually rescued by ships) and those who passed away with `sandybrown`.\n",
    "* Plot both histograms on a single set of axes (there should be only one panel in the figure you create), but use Matplotlib/Pandas plotting functionality to make the faces of the histogram boxes somewhat transparent, so both histograms are visible.\n",
    "* Include a legend and label your axes.\n",
    "* Comment on the results. Does your figure suggest that some age ranges are more or less likely to have survived the disaster than other ages? Fully explain your reasoning and use your figure to justify your conclusions.\n",
    "* If you noticed some relationship between age and likelihood of survival, what is one possible explanation?"
   ]
  },
  {
   "cell_type": "code",
   "execution_count": 6,
   "metadata": {
    "scrolled": true
   },
   "outputs": [
    {
     "data": {
      "text/plain": [
       "Text(0, 0.5, 'density')"
      ]
     },
     "execution_count": 6,
     "metadata": {},
     "output_type": "execute_result"
    },
    {
     "data": {
      "image/png": "[encoded data removed]",
      "text/plain": [
       "<Figure size 1008x576 with 1 Axes>"
      ]
     },
     "metadata": {
      "needs_background": "light"
     },
     "output_type": "display_data"
    }
   ],
   "source": [
    "my_bins = range(0,80,5)\n",
    "fig,ax=plt.subplots(figsize=(14,8))\n",
    "\n",
    "dfTitanic.loc[dfTitanic['Survived']==1].hist(column=\"Age\", density=True, ax=ax, bins=my_bins,edgecolor=\"blue\", facecolor = 'navy',alpha=0.2);\n",
    "dfTitanic.loc[dfTitanic['Survived']==0].hist(column=\"Age\", density=True, ax=ax,bins=my_bins,edgecolor=\"red\",facecolor=\"sandybrown\", alpha=0.25);\n",
    "ax.set_title(\"Comparison of the age of survivors alive and dead\", fontsize=20)\n",
    "ax.set_xlabel(\"Age\",fontsize=16)\n",
    "ax.set_ylabel(\"density\",fontsize=16)"
   ]
  },
  {
   "cell_type": "markdown",
   "metadata": {},
   "source": [
    "people from 15 to 30 are more likely survived in this disaster. From the figure, we can see the largest survived group is from 20 to 25. The density of survival from Age 15 to 30 compare to the dead people is relatively higher.\n",
    "it may because people from 15 to 30 are stronger and healthier so they can last longer when they flaoting in the sea to wait to be rescued. "
   ]
  },
  {
   "cell_type": "markdown",
   "metadata": {},
   "source": [
    "**Part F:** In Part E, we plotted two *density* histograms, showing the distributions of ages of passengers that survived or did not survive the Titanic disaster. Why would it be misleading for us to have plotted these as *frequency* histograms instead?"
   ]
  },
  {
   "cell_type": "markdown",
   "metadata": {},
   "source": [
    "The frequency histogram shows the population of age in each bin. The density histogram adjusts the height to make the sum of each bin equal one. \n",
    "we count the probability of different age people survival or not from density histogram. so we can compare that probability easier. from frequency histograms, we may see the largest number of which age bin people survived. but it may because of the large overall population of that age bin, so er can not conclude that this group of people are more likely to survive."
   ]
  },
  {
   "cell_type": "markdown",
   "metadata": {},
   "source": [
    "**Part G**: Do the data suggest class warfare, male chivalry, age bias, or some combination of these characteristics in the final hours aboard the Titanic?  Justify your conclusions based on the computations done above, or do any other analysis that you like, but be sure to clearly justify your conclusions."
   ]
  },
  {
   "cell_type": "markdown",
   "metadata": {},
   "source": [
    "I think the male chivalry happened in the final hours aboard the Titanic. because from the Part D analysis. we can see the female survival probability is obviously higher than the male survival probability in every class. I don't think the class warfare happened because the first class survival probability is similar to the third class survival probability in Part D. I think the age bias is true, because  from Part E, within the survival group, the age from 15 to 30 survival probability is higher then other ages."
   ]
  },
  {
   "cell_type": "markdown",
   "metadata": {},
   "source": [
    "[Back to top](#top)\n",
    "<a/ id='p2'></a>\n",
    "\n",
    "## (20 pts) Problem 2: Data (Box Plots and Outliers)\n",
    "***\n",
    "\n",
    "NOAA's Physical Sciences division (https://www.esrl.noaa.gov/psd) houses an enormous amount of weather data.  Load `BoulderPrecip.csv` from the course page for the last 120 years of monthly precipitation data from Boulder.  Let's take a look!"
   ]
  },
  {
   "cell_type": "code",
   "execution_count": 7,
   "metadata": {},
   "outputs": [
    {
     "data": {
      "text/html": [
       "<div>\n",
       "<style scoped>\n",
       "    .dataframe tbody tr th:only-of-type {\n",
       "        vertical-align: middle;\n",
       "    }\n",
       "\n",
       "    .dataframe tbody tr th {\n",
       "        vertical-align: top;\n",
       "    }\n",
       "\n",
       "    .dataframe thead th {\n",
       "        text-align: right;\n",
       "    }\n",
       "</style>\n",
       "<table border=\"1\" class=\"dataframe\">\n",
       "  <thead>\n",
       "    <tr style=\"text-align: right;\">\n",
       "      <th></th>\n",
       "      <th>Year</th>\n",
       "      <th>JAN</th>\n",
       "      <th>FEB</th>\n",
       "      <th>MAR</th>\n",
       "      <th>APR</th>\n",
       "      <th>MAY</th>\n",
       "      <th>JUN</th>\n",
       "      <th>JUL</th>\n",
       "      <th>AUG</th>\n",
       "      <th>SEP</th>\n",
       "      <th>OCT</th>\n",
       "      <th>NOV</th>\n",
       "      <th>DEC</th>\n",
       "      <th>YEAR TOTAL</th>\n",
       "    </tr>\n",
       "  </thead>\n",
       "  <tbody>\n",
       "    <tr>\n",
       "      <th>0</th>\n",
       "      <td>1900</td>\n",
       "      <td>0.40</td>\n",
       "      <td>1.06</td>\n",
       "      <td>0.75</td>\n",
       "      <td>9.18</td>\n",
       "      <td>1.84</td>\n",
       "      <td>0.49</td>\n",
       "      <td>0.48</td>\n",
       "      <td>0.22</td>\n",
       "      <td>1.54</td>\n",
       "      <td>0.13</td>\n",
       "      <td>0.19</td>\n",
       "      <td>0.61</td>\n",
       "      <td>16.89</td>\n",
       "    </tr>\n",
       "    <tr>\n",
       "      <th>1</th>\n",
       "      <td>1901</td>\n",
       "      <td>0.53</td>\n",
       "      <td>0.30</td>\n",
       "      <td>1.74</td>\n",
       "      <td>3.51</td>\n",
       "      <td>1.62</td>\n",
       "      <td>1.76</td>\n",
       "      <td>0.46</td>\n",
       "      <td>1.69</td>\n",
       "      <td>0.16</td>\n",
       "      <td>0.65</td>\n",
       "      <td>Tr</td>\n",
       "      <td>1.43</td>\n",
       "      <td>13.85</td>\n",
       "    </tr>\n",
       "    <tr>\n",
       "      <th>2</th>\n",
       "      <td>1902</td>\n",
       "      <td>0.37</td>\n",
       "      <td>0.48</td>\n",
       "      <td>1.48</td>\n",
       "      <td>1.01</td>\n",
       "      <td>2.32</td>\n",
       "      <td>1.46</td>\n",
       "      <td>1.26</td>\n",
       "      <td>0.53</td>\n",
       "      <td>5.46</td>\n",
       "      <td>1.44</td>\n",
       "      <td>1.29</td>\n",
       "      <td>1.34</td>\n",
       "      <td>18.44</td>\n",
       "    </tr>\n",
       "    <tr>\n",
       "      <th>3</th>\n",
       "      <td>1903</td>\n",
       "      <td>0.08</td>\n",
       "      <td>1.52</td>\n",
       "      <td>1.45</td>\n",
       "      <td>2.31</td>\n",
       "      <td>2.02</td>\n",
       "      <td>1.87</td>\n",
       "      <td>0.95</td>\n",
       "      <td>1.46</td>\n",
       "      <td>1.31</td>\n",
       "      <td>3.43</td>\n",
       "      <td>0.15</td>\n",
       "      <td>0.16</td>\n",
       "      <td>16.71</td>\n",
       "    </tr>\n",
       "    <tr>\n",
       "      <th>4</th>\n",
       "      <td>1904</td>\n",
       "      <td>0.09</td>\n",
       "      <td>0.31</td>\n",
       "      <td>2.37</td>\n",
       "      <td>1.45</td>\n",
       "      <td>5.35</td>\n",
       "      <td>2.72</td>\n",
       "      <td>1.05</td>\n",
       "      <td>1.00</td>\n",
       "      <td>1.60</td>\n",
       "      <td>1.06</td>\n",
       "      <td>0.08</td>\n",
       "      <td>0.70</td>\n",
       "      <td>17.78</td>\n",
       "    </tr>\n",
       "    <tr>\n",
       "      <th>5</th>\n",
       "      <td>1905</td>\n",
       "      <td>0.81</td>\n",
       "      <td>0.70</td>\n",
       "      <td>1.85</td>\n",
       "      <td>6.65</td>\n",
       "      <td>4.78</td>\n",
       "      <td>0.55</td>\n",
       "      <td>1.86</td>\n",
       "      <td>0.22</td>\n",
       "      <td>1.64</td>\n",
       "      <td>2.54</td>\n",
       "      <td>0.23</td>\n",
       "      <td>Tr</td>\n",
       "      <td>21.83</td>\n",
       "    </tr>\n",
       "    <tr>\n",
       "      <th>6</th>\n",
       "      <td>1906</td>\n",
       "      <td>0.22</td>\n",
       "      <td>0.17</td>\n",
       "      <td>2.45</td>\n",
       "      <td>5.32</td>\n",
       "      <td>3.37</td>\n",
       "      <td>1.56</td>\n",
       "      <td>3.81</td>\n",
       "      <td>2.50</td>\n",
       "      <td>3.13</td>\n",
       "      <td>1.80</td>\n",
       "      <td>1.87</td>\n",
       "      <td>Tr</td>\n",
       "      <td>26.20</td>\n",
       "    </tr>\n",
       "    <tr>\n",
       "      <th>7</th>\n",
       "      <td>1907</td>\n",
       "      <td>0.22</td>\n",
       "      <td>0.56</td>\n",
       "      <td>0.47</td>\n",
       "      <td>3.59</td>\n",
       "      <td>5.29</td>\n",
       "      <td>0.59</td>\n",
       "      <td>2.79</td>\n",
       "      <td>0.44</td>\n",
       "      <td>1.06</td>\n",
       "      <td>0.58</td>\n",
       "      <td>0.41</td>\n",
       "      <td>0.27</td>\n",
       "      <td>16.27</td>\n",
       "    </tr>\n",
       "    <tr>\n",
       "      <th>8</th>\n",
       "      <td>1908</td>\n",
       "      <td>0.60</td>\n",
       "      <td>0.09</td>\n",
       "      <td>0.23</td>\n",
       "      <td>0.71</td>\n",
       "      <td>3.45</td>\n",
       "      <td>0.29</td>\n",
       "      <td>2.07</td>\n",
       "      <td>3.30</td>\n",
       "      <td>1.55</td>\n",
       "      <td>2.59</td>\n",
       "      <td>1.96</td>\n",
       "      <td>1.04</td>\n",
       "      <td>17.88</td>\n",
       "    </tr>\n",
       "    <tr>\n",
       "      <th>9</th>\n",
       "      <td>1909</td>\n",
       "      <td>0.11</td>\n",
       "      <td>1.21</td>\n",
       "      <td>3.96</td>\n",
       "      <td>3.60</td>\n",
       "      <td>1.85</td>\n",
       "      <td>1.67</td>\n",
       "      <td>3.18</td>\n",
       "      <td>2.42</td>\n",
       "      <td>4.51</td>\n",
       "      <td>0.55</td>\n",
       "      <td>1.56</td>\n",
       "      <td>1.72</td>\n",
       "      <td>26.34</td>\n",
       "    </tr>\n",
       "    <tr>\n",
       "      <th>10</th>\n",
       "      <td>1910</td>\n",
       "      <td>0.20</td>\n",
       "      <td>1.39</td>\n",
       "      <td>0.05</td>\n",
       "      <td>1.34</td>\n",
       "      <td>3.38</td>\n",
       "      <td>0.48</td>\n",
       "      <td>1.58</td>\n",
       "      <td>2.69</td>\n",
       "      <td>0.48</td>\n",
       "      <td>1.05</td>\n",
       "      <td>0.27</td>\n",
       "      <td>0.53</td>\n",
       "      <td>13.44</td>\n",
       "    </tr>\n",
       "    <tr>\n",
       "      <th>11</th>\n",
       "      <td>1911</td>\n",
       "      <td>0.73</td>\n",
       "      <td>1.56</td>\n",
       "      <td>0.64</td>\n",
       "      <td>2.68</td>\n",
       "      <td>0.90</td>\n",
       "      <td>1.30</td>\n",
       "      <td>1.69</td>\n",
       "      <td>1.24</td>\n",
       "      <td>0.26</td>\n",
       "      <td>1.59</td>\n",
       "      <td>0.72</td>\n",
       "      <td>0.20</td>\n",
       "      <td>13.51</td>\n",
       "    </tr>\n",
       "    <tr>\n",
       "      <th>12</th>\n",
       "      <td>1912</td>\n",
       "      <td>0.58</td>\n",
       "      <td>1.32</td>\n",
       "      <td>2.00</td>\n",
       "      <td>1.71</td>\n",
       "      <td>2.82</td>\n",
       "      <td>1.91</td>\n",
       "      <td>3.33</td>\n",
       "      <td>1.77</td>\n",
       "      <td>2.70</td>\n",
       "      <td>1.03</td>\n",
       "      <td>0.93</td>\n",
       "      <td>0.46</td>\n",
       "      <td>20.56</td>\n",
       "    </tr>\n",
       "    <tr>\n",
       "      <th>13</th>\n",
       "      <td>1913</td>\n",
       "      <td>0.49</td>\n",
       "      <td>1.28</td>\n",
       "      <td>0.71</td>\n",
       "      <td>1.58</td>\n",
       "      <td>1.85</td>\n",
       "      <td>0.48</td>\n",
       "      <td>4.04</td>\n",
       "      <td>0.54</td>\n",
       "      <td>2.62</td>\n",
       "      <td>2.24</td>\n",
       "      <td>0.00</td>\n",
       "      <td>4.20</td>\n",
       "      <td>20.03</td>\n",
       "    </tr>\n",
       "    <tr>\n",
       "      <th>14</th>\n",
       "      <td>1914</td>\n",
       "      <td>0.00</td>\n",
       "      <td>0.08</td>\n",
       "      <td>1.77</td>\n",
       "      <td>3.38</td>\n",
       "      <td>3.57</td>\n",
       "      <td>1.70</td>\n",
       "      <td>2.32</td>\n",
       "      <td>1.97</td>\n",
       "      <td>0.25</td>\n",
       "      <td>2.69</td>\n",
       "      <td>0.31</td>\n",
       "      <td>0.29</td>\n",
       "      <td>18.33</td>\n",
       "    </tr>\n",
       "    <tr>\n",
       "      <th>15</th>\n",
       "      <td>1915</td>\n",
       "      <td>0.39</td>\n",
       "      <td>1.31</td>\n",
       "      <td>1.68</td>\n",
       "      <td>4.46</td>\n",
       "      <td>3.83</td>\n",
       "      <td>1.78</td>\n",
       "      <td>2.58</td>\n",
       "      <td>1.67</td>\n",
       "      <td>3.02</td>\n",
       "      <td>1.83</td>\n",
       "      <td>0.25</td>\n",
       "      <td>1.50</td>\n",
       "      <td>24.30</td>\n",
       "    </tr>\n",
       "    <tr>\n",
       "      <th>16</th>\n",
       "      <td>1916</td>\n",
       "      <td>0.69</td>\n",
       "      <td>0.02</td>\n",
       "      <td>1.02</td>\n",
       "      <td>2.36</td>\n",
       "      <td>3.77</td>\n",
       "      <td>0.53</td>\n",
       "      <td>1.26</td>\n",
       "      <td>1.90</td>\n",
       "      <td>1.32</td>\n",
       "      <td>4.60</td>\n",
       "      <td>1.32</td>\n",
       "      <td>0.86</td>\n",
       "      <td>19.65</td>\n",
       "    </tr>\n",
       "    <tr>\n",
       "      <th>17</th>\n",
       "      <td>1917</td>\n",
       "      <td>0.31</td>\n",
       "      <td>0.54</td>\n",
       "      <td>1.75</td>\n",
       "      <td>2.81</td>\n",
       "      <td>6.17</td>\n",
       "      <td>0.13</td>\n",
       "      <td>0.48</td>\n",
       "      <td>0.20</td>\n",
       "      <td>0.13</td>\n",
       "      <td>0.95</td>\n",
       "      <td>0.10</td>\n",
       "      <td>0.42</td>\n",
       "      <td>13.99</td>\n",
       "    </tr>\n",
       "    <tr>\n",
       "      <th>18</th>\n",
       "      <td>1918</td>\n",
       "      <td>0.68</td>\n",
       "      <td>1.18</td>\n",
       "      <td>0.72</td>\n",
       "      <td>2.98</td>\n",
       "      <td>2.03</td>\n",
       "      <td>1.28</td>\n",
       "      <td>2.54</td>\n",
       "      <td>0.57</td>\n",
       "      <td>3.62</td>\n",
       "      <td>1.10</td>\n",
       "      <td>0.78</td>\n",
       "      <td>1.36</td>\n",
       "      <td>18.84</td>\n",
       "    </tr>\n",
       "    <tr>\n",
       "      <th>19</th>\n",
       "      <td>1919</td>\n",
       "      <td>0.00</td>\n",
       "      <td>0.32</td>\n",
       "      <td>1.49</td>\n",
       "      <td>1.65</td>\n",
       "      <td>0.88</td>\n",
       "      <td>1.10</td>\n",
       "      <td>7.46</td>\n",
       "      <td>0.95</td>\n",
       "      <td>0.88</td>\n",
       "      <td>1.31</td>\n",
       "      <td>2.07</td>\n",
       "      <td>0.50</td>\n",
       "      <td>18.61</td>\n",
       "    </tr>\n",
       "  </tbody>\n",
       "</table>\n",
       "</div>"
      ],
      "text/plain": [
       "    Year   JAN   FEB   MAR   APR   MAY   JUN   JUL   AUG   SEP   OCT   NOV  \\\n",
       "0   1900  0.40  1.06  0.75  9.18  1.84  0.49  0.48  0.22  1.54  0.13  0.19   \n",
       "1   1901  0.53  0.30  1.74  3.51  1.62  1.76  0.46  1.69  0.16  0.65    Tr   \n",
       "2   1902  0.37  0.48  1.48  1.01  2.32  1.46  1.26  0.53  5.46  1.44  1.29   \n",
       "3   1903  0.08  1.52  1.45  2.31  2.02  1.87  0.95  1.46  1.31  3.43  0.15   \n",
       "4   1904  0.09  0.31  2.37  1.45  5.35  2.72  1.05  1.00  1.60  1.06  0.08   \n",
       "5   1905  0.81  0.70  1.85  6.65  4.78  0.55  1.86  0.22  1.64  2.54  0.23   \n",
       "6   1906  0.22  0.17  2.45  5.32  3.37  1.56  3.81  2.50  3.13  1.80  1.87   \n",
       "7   1907  0.22  0.56  0.47  3.59  5.29  0.59  2.79  0.44  1.06  0.58  0.41   \n",
       "8   1908  0.60  0.09  0.23  0.71  3.45  0.29  2.07  3.30  1.55  2.59  1.96   \n",
       "9   1909  0.11  1.21  3.96  3.60  1.85  1.67  3.18  2.42  4.51  0.55  1.56   \n",
       "10  1910  0.20  1.39  0.05  1.34  3.38  0.48  1.58  2.69  0.48  1.05  0.27   \n",
       "11  1911  0.73  1.56  0.64  2.68  0.90  1.30  1.69  1.24  0.26  1.59  0.72   \n",
       "12  1912  0.58  1.32  2.00  1.71  2.82  1.91  3.33  1.77  2.70  1.03  0.93   \n",
       "13  1913  0.49  1.28  0.71  1.58  1.85  0.48  4.04  0.54  2.62  2.24  0.00   \n",
       "14  1914  0.00  0.08  1.77  3.38  3.57  1.70  2.32  1.97  0.25  2.69  0.31   \n",
       "15  1915  0.39  1.31  1.68  4.46  3.83  1.78  2.58  1.67  3.02  1.83  0.25   \n",
       "16  1916  0.69  0.02  1.02  2.36  3.77  0.53  1.26  1.90  1.32  4.60  1.32   \n",
       "17  1917  0.31  0.54  1.75  2.81  6.17  0.13  0.48  0.20  0.13  0.95  0.10   \n",
       "18  1918  0.68  1.18  0.72  2.98  2.03  1.28  2.54  0.57  3.62  1.10  0.78   \n",
       "19  1919  0.00  0.32  1.49  1.65  0.88  1.10  7.46  0.95  0.88  1.31  2.07   \n",
       "\n",
       "     DEC  YEAR TOTAL  \n",
       "0   0.61       16.89  \n",
       "1   1.43       13.85  \n",
       "2   1.34       18.44  \n",
       "3   0.16       16.71  \n",
       "4   0.70       17.78  \n",
       "5     Tr       21.83  \n",
       "6     Tr       26.20  \n",
       "7   0.27       16.27  \n",
       "8   1.04       17.88  \n",
       "9   1.72       26.34  \n",
       "10  0.53       13.44  \n",
       "11  0.20       13.51  \n",
       "12  0.46       20.56  \n",
       "13  4.20       20.03  \n",
       "14  0.29       18.33  \n",
       "15  1.50       24.30  \n",
       "16  0.86       19.65  \n",
       "17  0.42       13.99  \n",
       "18  1.36       18.84  \n",
       "19  0.50       18.61  "
      ]
     },
     "execution_count": 7,
     "metadata": {},
     "output_type": "execute_result"
    }
   ],
   "source": [
    "dfPrecip = pd.read_csv('boulder_precip_12021.csv')\n",
    "dfPrecip.head(20)\n"
   ]
  },
  {
   "cell_type": "markdown",
   "metadata": {},
   "source": [
    "**Part A:** SCRUBBING!  Our data set is going to be tough to use for a few reasons.\n",
    "\n",
    "1) When the amount of precipitation was nonzero but too small to be recorded, this data set recorded `tr`.  Replace these with zeroes.\n",
    "\n",
    "2) 2021 isn't over yet!  We have one row at the bottom that isn't fully complete and blank values are filling the months that haven't happened yet.  This can wreak havoc on some of our methods!  **Drop** the 2021 data entirely.\n",
    "\n",
    "3) You may have some object typing issues relating to columns that contained both \"Tr\"/\"NA\" and numeric values.  Ensure that Python is treating all of your data as numeric! (see `df.dtypes`)"
   ]
  },
  {
   "cell_type": "code",
   "execution_count": 8,
   "metadata": {},
   "outputs": [
    {
     "data": {
      "text/plain": [
       "Year            int64\n",
       "JAN           float64\n",
       "FEB           float64\n",
       "MAR           float64\n",
       "APR           float64\n",
       "MAY           float64\n",
       "JUN           float64\n",
       "JUL           float64\n",
       "AUG           float64\n",
       "SEP           float64\n",
       "OCT           float64\n",
       "NOV           float64\n",
       "DEC           float64\n",
       "YEAR TOTAL    float64\n",
       "dtype: object"
      ]
     },
     "execution_count": 8,
     "metadata": {},
     "output_type": "execute_result"
    }
   ],
   "source": [
    "dfPrecip=dfPrecip.replace('Tr', float(0))\n",
    "dfPrecip=dfPrecip.replace('NA', float(0))\n",
    "index_names = dfPrecip[ dfPrecip['Year'] == 2021 ].index \n",
    "dfPrecip=dfPrecip.drop(index_names) \n",
    "dfPrecip['JAN']=dfPrecip['JAN'].str.replace('*','').astype(float)\n",
    "dfPrecip.dropna(subset=['JAN'],inplace=True)\n",
    "dfPrecip['MAY']=dfPrecip['MAY'].str.replace('*','').astype(float)\n",
    "dfPrecip['FEB']=dfPrecip['FEB'].str.replace('*','').astype(float)\n",
    "dfPrecip['JUN']=dfPrecip['JUN'].str.replace('*','').astype(float)\n",
    "dfPrecip['AUG']=dfPrecip['AUG'].str.replace('*','').astype(float)\n",
    "dfPrecip['SEP']=dfPrecip['SEP'].str.replace('*','').astype(float)\n",
    "dfPrecip['OCT']=dfPrecip['OCT'].str.replace('*','').astype(float)\n",
    "dfPrecip['NOV']=dfPrecip['NOV'].str.replace('*','').astype(float)\n",
    "dfPrecip['DEC']=dfPrecip['DEC'].str.replace('*','').astype(float)\n",
    "#dfPrecip['JAN'] = dfPrecip['JAN'].astype(float)\n",
    "dfPrecip.dtypes\n",
    "#dfPrecip.head()"
   ]
  },
  {
   "cell_type": "markdown",
   "metadata": {},
   "source": [
    "**Part B:** Generate a series of 12 box plots with month as the x axis and precipitation on the y-axis."
   ]
  },
  {
   "cell_type": "code",
   "execution_count": 9,
   "metadata": {
    "scrolled": true
   },
   "outputs": [
    {
     "data": {
      "text/plain": [
       "Text(0.5, 1.0, 'Months')"
      ]
     },
     "execution_count": 9,
     "metadata": {},
     "output_type": "execute_result"
    },
    {
     "data": {
      "image/png": "[encoded data removed]",
      "text/plain": [
       "<Figure size 1152x576 with 1 Axes>"
      ]
     },
     "metadata": {
      "needs_background": "light"
     },
     "output_type": "display_data"
    }
   ],
   "source": [
    "fig, ax = plt.subplots(figsize=(16,8))\n",
    "\n",
    "bp=dfPrecip.boxplot(column=[\"JAN\", \"FEB\",\"MAR\",\"APR\",\"MAY\",\"JUN\",\"JUL\",\"AUG\",\"SEP\",\"SEP\",\"OCT\",\"NOV\",\"DEC\"],ax=ax)\n",
    "ax.grid(alpha=0.25)\n",
    "ax.set_ylabel(\"precipitation\", fontsize=16)\n",
    "ax.set_title(\"Months\", fontsize=16)\n",
    "\n",
    "    \n",
    "\n"
   ]
  },
  {
   "cell_type": "markdown",
   "metadata": {},
   "source": [
    "\n",
    "**Part C:** Spring is the wet season in Boulder.   But what is Spring?\n",
    "\n",
    "Atmospheric scientists love to group months seasonally, breaking the year into a Winter season including December, January, February; a Spring including March, April, and May; and so forth.\n",
    "\n",
    "The solar year, however, says that Spring runs from near the end of March until near the end of June: let's round at the nearest month and say that it includes the months of April, May and June.\n",
    "\n",
    "Generate a box plot with precipitation on the y-axis and the two possible monthly 'Spring' groupings (March-May versus April-June) as the x-axis."
   ]
  },
  {
   "cell_type": "code",
   "execution_count": 10,
   "metadata": {},
   "outputs": [
    {
     "data": {
      "text/plain": [
       "Text(0.5, 1.0, 'Spring Groups ')"
      ]
     },
     "execution_count": 10,
     "metadata": {},
     "output_type": "execute_result"
    },
    {
     "data": {
      "image/png": "[encoded data removed]",
      "text/plain": [
       "<Figure size 1152x576 with 1 Axes>"
      ]
     },
     "metadata": {
      "needs_background": "light"
     },
     "output_type": "display_data"
    }
   ],
   "source": [
    "fig, ax = plt.subplots(figsize=(16,8))\n",
    "dfPrecip[\"March-May\"]= dfPrecip[\"MAR\"]+dfPrecip[\"APR\"]+dfPrecip[\"MAY\"]\n",
    "dfPrecip[\"April-June\"]= dfPrecip[\"JUN\"]+dfPrecip[\"APR\"]+dfPrecip[\"MAY\"]\n",
    "\n",
    "#dfPrecip.head()\n",
    "bp=dfPrecip.boxplot(column=[\"March-May\",\"April-June\"],ax=ax)\n",
    "ax.set_ylabel(\"precipitation\", fontsize=16)\n",
    "ax.set_title(\"Spring Groups \", fontsize=16)"
   ]
  },
  {
   "cell_type": "markdown",
   "metadata": {},
   "source": [
    "**Part D:** These might look pretty similar!  Highlight and comment on any differences by calculating the mean, standard deviation, and a Tukey five number summary of each classification of Spring.  Is there a reason here to favor one grouping over the other?"
   ]
  },
  {
   "cell_type": "code",
   "execution_count": 11,
   "metadata": {},
   "outputs": [
    {
     "name": "stdout",
     "output_type": "stream",
     "text": [
      "spring group March-May mean=7.541694915254241 \n",
      "spring group April-June mean=7.708632478632478 \n",
      "spring group March-May standard deviation=2.7397383695306017 \n",
      "spring group April-June standard deviation=2.9516228458440383 \n",
      "5-Number Summary for spring group March-May: 2.21    5.61    7.13    9.14    16.75\n",
      "5-Number Summary for spring group April-June: 3.12    5.38    7.38    9.52    19.07\n"
     ]
    }
   ],
   "source": [
    "sg1_mean=dfPrecip[\"March-May\"].mean()\n",
    "print(\"spring group March-May mean={} \".format(sg1_mean))\n",
    "sg2_mean=dfPrecip[\"April-June\"].mean()\n",
    "print(\"spring group April-June mean={} \".format(sg2_mean))\n",
    "sg1_std=dfPrecip[\"March-May\"].std()\n",
    "print(\"spring group March-May standard deviation={} \".format(sg1_std))\n",
    "sg2_std=dfPrecip[\"April-June\"].std()\n",
    "print(\"spring group April-June standard deviation={} \".format(sg2_std))\n",
    "minval = dfPrecip[\"March-May\"].min() \n",
    "maxval = dfPrecip[\"March-May\"].max()\n",
    "Q1 = dfPrecip[\"March-May\"].quantile(.25) \n",
    "Q2 = dfPrecip[\"March-May\"].quantile(.50) \n",
    "Q3 = dfPrecip[\"March-May\"].quantile(.75)\n",
    "print(\"5-Number Summary for spring group March-May: {:.2f}    {:.2f}    {:.2f}    {:.2f}    {:.2f}\".format(minval, Q1, Q2, Q3, maxval))\n",
    "minval = dfPrecip[\"April-June\"].min() \n",
    "maxval = dfPrecip[\"April-June\"].max() \n",
    "Q1 = dfPrecip[\"April-June\"].quantile(.25)\n",
    "Q2 = dfPrecip[\"April-June\"].quantile(.50) \n",
    "Q3 = dfPrecip[\"April-June\"].quantile(.75)\n",
    "print(\"5-Number Summary for spring group April-June: {:.2f}    {:.2f}    {:.2f}    {:.2f}    {:.2f}\".format(minval, Q1, Q2, Q3, maxval))\n"
   ]
  },
  {
   "cell_type": "markdown",
   "metadata": {},
   "source": [
    "I think spring group April-June maybe more accuate as spring group. first, the average precipitation is higher than spring group March-May. The IQR for spring group April-June is 4.14.and the IQR for spring group March-May is 3.53.\n",
    "The spread of spring group April-June precipitation data is more higher.  Spring group March-May has a positive skew because the the upper quartile $Q_3$ is farther from the median than the lower quartile $Q_1$ is from the median. "
   ]
  },
  {
   "cell_type": "markdown",
   "metadata": {},
   "source": [
    "**Part E:** Create a density histogram of the September precipitation.  Classify and describe this histogram, including discussion of any skewness, multimodality, or outliers.  Find the data point associated with September, 2013, and recreate your histogram with that value in a different color or otherwise clearly marked."
   ]
  },
  {
   "cell_type": "code",
   "execution_count": 35,
   "metadata": {},
   "outputs": [
    {
     "name": "stdout",
     "output_type": "stream",
     "text": [
      "18\n"
     ]
    },
    {
     "data": {
      "image/png": "[encoded data removed]",
      "text/plain": [
       "<Figure size 1008x576 with 2 Axes>"
      ]
     },
     "metadata": {
      "needs_background": "light"
     },
     "output_type": "display_data"
    }
   ],
   "source": [
    "fig,axes=plt.subplots(nrows=2, ncols=1,figsize=(14,8))\n",
    "my_bins = range(0,20,1)\n",
    "#dfPrecip[['Year','SEP']].plot( x='Year', y='SEP', kind='hist')\n",
    "#plt.xlim([1900,2020])\n",
    "dfPrecip.hist(column=\"SEP\", density=True,ax=axes[0],bins=my_bins, edgecolor=\"blue\", facecolor = 'navy',alpha=0.7);\n",
    "dfPrecip.hist(column=\"SEP\", density=True,ax=axes[1],bins=my_bins, edgecolor=\"blue\", facecolor = 'steelblue',alpha=0.7);\n",
    "axes[0].grid(alpha=0.25)\n",
    "axes[1].grid(alpha=0.25)\n",
    "n=(dfPrecip['Year']==2013)\n",
    "number_color=int(dfPrecip.loc[n, \"SEP\"])\n",
    "#print(number_color)\n",
    "axes[1].patches[number_color].set_color('red')\n"
   ]
  },
  {
   "cell_type": "markdown",
   "metadata": {},
   "source": [
    "This density histogram shows the probability of September precipitation from 1900 to 2020. This density histogram is positive skew because the farthest number from middle is positive number. it is also bimodal, because there are kind of two up down in this density histogram. The outlier is the number above 17.5."
   ]
  },
  {
   "cell_type": "markdown",
   "metadata": {},
   "source": [
    "**Part F:** That one data point in September 2013 is pretty out there!  Compute the mean and standard deviation of the September precipitation values, then compute them again while excluding the 2013 observation.  How much did each change?\n",
    "\n",
    "If someone were to ask you about the average weather in September, what would you respond?\n",
    "\n"
   ]
  },
  {
   "cell_type": "code",
   "execution_count": 39,
   "metadata": {},
   "outputs": [
    {
     "name": "stdout",
     "output_type": "stream",
     "text": [
      "September precipitation mean =1.7327586206896546 \n",
      "September precipitation standard deviation =1.9957452944601473 \n",
      "September precipitation mean exclude 2013=1.5899130434782605 \n",
      "September precipitation standard deviation exclude 2013=1.2767973198127442 \n"
     ]
    }
   ],
   "source": [
    "sepMean=dfPrecip[\"SEP\"].mean()\n",
    "print(\"September precipitation mean ={} \".format(sepMean))\n",
    "sepStd=dfPrecip[\"SEP\"].std()\n",
    "print(\"September precipitation standard deviation ={} \".format(sepStd))\n",
    "new=dfPrecip[dfPrecip['Year']!=2013]\n",
    "sepnewMean=new[\"SEP\"].mean()\n",
    "print(\"September precipitation mean exclude 2013={} \".format(sepnewMean))\n",
    "sepnewStd=new[\"SEP\"].std()\n",
    "print(\"September precipitation standard deviation exclude 2013={} \".format(sepnewStd))"
   ]
  },
  {
   "cell_type": "markdown",
   "metadata": {},
   "source": [
    "The mean of September precipitation exclude 2013 is less than the September precipitation mean, mean is a measure of the centrality of a set of values. the total September precipitation subtractiont will affect mean. \n",
    "The standard deviation of September precipitation exclude 2013 is less too. because standard deviation is a measure of the dispersion of a set of values. we exclude the outliers number will cause the spread of the set of September precipitation smaller."
   ]
  },
  {
   "cell_type": "markdown",
   "metadata": {},
   "source": [
    "[Back to top](#top)"
   ]
  }
 ],
 "metadata": {
  "kernelspec": {
   "display_name": "Python 3",
   "language": "python",
   "name": "python3"
  },
  "language_info": {
   "codemirror_mode": {
    "name": "ipython",
    "version": 3
   },
   "file_extension": ".py",
   "mimetype": "text/x-python",
   "name": "python",
   "nbconvert_exporter": "python",
   "pygments_lexer": "ipython3",
   "version": "3.8.5"
  }
 },
 "nbformat": 4,
 "nbformat_minor": 2
}
