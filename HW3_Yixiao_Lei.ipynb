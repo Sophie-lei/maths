{
 "cells": [
  {
   "cell_type": "markdown",
   "metadata": {},
   "source": [
    "<a id='top'></a>\n",
    "\n",
    "# CSCI3022 S21\n",
    "# Homework 3: Probability and Simulations\n",
    "***\n",
    "\n",
    "**Name**: ______Yixiao Lei__________________________________________________________________\n",
    "\n",
    "***\n",
    "\n",
    "This assignment is due on Canvas by **MIDNIGHT on Monday, February 22**. Your solutions to theoretical questions should be done in Markdown directly below the associated question.  Your solutions to computational questions should include any specified Python code and results as well as written commentary on your conclusions.  Remember that you are encouraged to discuss the problems with your classmates, but **you must write all code and solutions on your own**.\n",
    "\n",
    "**NOTES**: \n",
    "\n",
    "- Any relevant data sets should be available on Canvas. To make life easier on the graders if they need to run your code, do not change the relative path names here. Instead, move the files around on your computer.\n",
    "- If you're not familiar with typesetting math directly into Markdown then by all means, do your work on paper first and then typeset it later.  Here is a [reference guide](https://math.meta.stackexchange.com/questions/5020/mathjax-basic-tutorial-and-quick-reference) linked on Canvas on writing math in Markdown. **All** of your written commentary, justifications and mathematical work should be in Markdown.  I also recommend the [wikibook](https://en.wikibooks.org/wiki/LaTeX) for LaTex.\n",
    "- Because you can technically evaluate notebook cells is a non-linear order, it's a good idea to do **Kernel $\\rightarrow$ Restart & Run All** as a check before submitting your solutions.  That way if we need to run your code you will know that it will work as expected. \n",
    "- It is **bad form** to make your reader interpret numerical output from your code.  If a question asks you to compute some value from the data you should show your code output **AND** write a summary of the results in Markdown directly below your code. \n",
    "- 95 points of this assignment are in problems.  The remaining 5 are for neatness, style, and overall exposition of both code and text.\n",
    "- This probably goes without saying, but... For any question that asks you to calculate something, you **must show all work and justify your answers to receive credit**. Sparse or nonexistent work will receive sparse or nonexistent credit. \n",
    "\n",
    "---\n",
    "**Shortcuts:**  [Problem 1](#p1) | [Problem 2](#p2) | [Problem 3](#p3) |\n",
    "---"
   ]
  },
  {
   "cell_type": "code",
   "execution_count": 1,
   "metadata": {},
   "outputs": [],
   "source": [
    "import pandas as pd\n",
    "import numpy as np\n",
    "import matplotlib.pylab as plt\n",
    "%matplotlib inline"
   ]
  },
  {
   "cell_type": "markdown",
   "metadata": {},
   "source": [
    "[Back to top](#top)\n",
    "\n",
    "<a id='p1'></a>\n",
    "\n",
    "## (25 pts) Problem 1 (Simulation): Let's play some \"games\"!\n",
    "***\n",
    "\n",
    "One of the big payoffs of simulation is that it can let us answer some probability questions that are otherwise quite difficult.  We can instead just simulate the process and get approximate results based on simulation.\n",
    "\n"
   ]
  },
  {
   "cell_type": "markdown",
   "metadata": {},
   "source": [
    "***\n",
    "### A) Poker... pen-and-paper\n",
    "Game number 1... is Poker!\n",
    "\n",
    "A common example for discrete counting and probability questions are poker hands.  Consider using a standard 52-card playing deck, with card faces `[A,2,3,4,5,6,7,8,9,10,J,Q,K]` across the standard 4 suits: `[C,D,H,S]`.\n",
    "\n",
    "Suppose we draw 5 cards at random from the deck.  What is the exact probability that we have a \"full house:\" a hand with 3 copies of one card face type (of any suits) and the other two cards matches of a different card face type (of any suits)?  Typeset your work below.  You may leave your answer in terms of a ratio of products, but you should simplify away any combinatoric notation such as ${n \\choose k}$ or $P(n,k)$.\n"
   ]
  },
  {
   "cell_type": "markdown",
   "metadata": {},
   "source": [
    "$$P(A)=\\frac{count 3 cards with one card face * count 2 cards with different card face }{count all 5 cards} $$\n",
    "$$C(3 cards with same face)={1 \\choose 13}*{3 \\choose 4}$$\n",
    "$$C(2 cards with different face)={2 \\choose 12}*4*4$$\n",
    "$$C(all 5)={5 \\choose 52}$$\n",
    "$$P(A)=\\frac{{1 \\choose 13}*{3 \\choose 4}*{2 \\choose 12}*4*4}{{5 \\choose 52}}$$\n",
    "$$P(A)=0.021128$$"
   ]
  },
  {
   "cell_type": "markdown",
   "metadata": {},
   "source": [
    "***\n",
    "### B) Poker with computers!\n",
    "\n",
    "Write a simulation that draws a hand of 5 cards from a standard 52-card deck. Repeat this simulation 10000 times, and report how many \"full house\" hands were observed. Verify that the result is consistent with your answer to part A.\n",
    "\n",
    "NB: The function `np.unique` can make checking hands easier.  Your actual simulation should have 52 distinct cards, even if we're only using the faces (and not suits) for the check of full house."
   ]
  },
  {
   "cell_type": "code",
   "execution_count": 2,
   "metadata": {},
   "outputs": [
    {
     "name": "stdout",
     "output_type": "stream",
     "text": [
      "241\n",
      "the probability of full house is approximately 0.024\n"
     ]
    }
   ],
   "source": [
    "from collections import Counter    \n",
    "def check(my_list):\n",
    "    counter = Counter(my_list)\n",
    "    if max(counter.values()) == 3:\n",
    "        return True\n",
    "    else :\n",
    "        return False\n",
    "card1= np.array([\"AC\",\"AD\",\"AH\",\"AS\",\"2C\",\"2D\",\"2H\",\"2S\",\"3C\",\"3D\",\"3H\",\"3S\",\"4C\",\"4D\",\"4H\",\"4S\",\"5C\",\"5D\",\"5H\",\"5S\",\"6C\",\"6D\",\"6H\",\"6S\",\"7C\",\"7D\",\"7H\",\"7S\",\"8C\",\"8D\",\"8H\",\"8S\",\"9C\",\"9D\",\"9H\",\"9S\",\"10C\",\"10D\",\"10H\",\"10S\",\"JC\",\"JD\",\"JH\",\"JS\",\"QC\",\"QD\",\"QH\",\"QS\",\"KC\",\"KD\",\"KH\",\"KS\"])\n",
    "#suit1=np.array([\"C\",\"D\",\"H\",\"S\"])\n",
    "count=0\n",
    "for ii in range(10000):\n",
    "    choosecard1=np.random.choice(card1, size=5,replace=False)\n",
    "    #choosesuit1=np.random.choice(suit1, size=5)\n",
    "    counter = Counter(choosecard1) \n",
    "    first=[]\n",
    "    for x in choosecard1:\n",
    "        first.append(x[0])\n",
    "    if len(np.unique(first))==3 and check(first):\n",
    "        count=count+1\n",
    "\n",
    "full_house_pro=count/10000\n",
    "print(count)\n",
    "print(\"the probability of full house is approximately {:.3f}\".format(full_house_pro))\n"
   ]
  },
  {
   "cell_type": "code",
   "execution_count": null,
   "metadata": {},
   "outputs": [],
   "source": [
    "\n",
    "    \n",
    "    "
   ]
  },
  {
   "cell_type": "markdown",
   "metadata": {},
   "source": [
    "The Riddler is a column on the website https://fivethirtyeight.com that posts logic, math, and probability puzzles each week.  Some of puzzles can be attacked by simulation and discrete probability: things that we have the tools to solve!\n",
    "\n",
    "Parts C/Eare former Riddler prompts.\n",
    "\n",
    "\n",
    "***\n",
    "### C) A \"solitaire\" game\n",
    "\n",
    "On snowy afternoons, you like to play a solitaire “game” with a standard, randomly shuffled deck of 52 cards. You start dealing cards face up, one at a time, into a pile. As you deal each card, you also speak aloud, in order, the 13 card faces in a standard deck: ace, two, three, etc. (When you get to king, you start over at ace.) You keep doing this until the rank of the card you deal matches the rank you speak aloud, in which case you lose. You win if you reach the end of the deck without any matches.\n",
    "\n",
    "Set up a simulation to answer the prompt: what is the probability that you win?\n",
    "\n",
    "Note that your final result should be *close* to the value of $(12/13)^{52}$, which would be the theoretical result if each card flip was independent.  Was it higher or lower?  Does this match your intuition?"
   ]
  },
  {
   "cell_type": "code",
   "execution_count": 3,
   "metadata": {},
   "outputs": [
    {
     "name": "stdout",
     "output_type": "stream",
     "text": [
      " the probability that you win is 0.017\n"
     ]
    }
   ],
   "source": [
    "card2= np.array([\"AC\",\"AD\",\"AH\",\"AS\",\"2C\",\"2D\",\"2H\",\"2S\",\"3C\",\"3D\",\"3H\",\"3S\",\"4C\",\"4D\",\"4H\",\"4S\",\"5C\",\"5D\",\"5H\",\"5S\",\"6C\",\"6D\",\"6H\",\"6S\",\"7C\",\"7D\",\"7H\",\"7S\",\"8C\",\"8D\",\"8H\",\"8S\",\"9C\",\"9D\",\"9H\",\"9S\",\"10C\",\"10D\",\"10H\",\"10S\",\"JC\",\"JD\",\"JH\",\"JS\",\"QC\",\"QD\",\"QH\",\"QS\",\"KC\",\"KD\",\"KH\",\"KS\"])\n",
    "order=np.array([\"A\",\"2\",\"3\",\"4\",\"5\",\"6\",\"7\",\"8\",\"9\",\"1\",\"J\",\"Q\",\"K\",\"A\",\"2\",\"3\",\"4\",\"5\",\"6\",\"7\",\"8\",\"9\",\"1\",\"J\",\"Q\",\"K\",\"A\",\"2\",\"3\",\"4\",\"5\",\"6\",\"7\",\"8\",\"9\",\"1\",\"J\",\"Q\",\"K\",\"A\",\"2\",\"3\",\"4\",\"5\",\"6\",\"7\",\"8\",\"9\",\"1\",\"J\",\"Q\",\"K\", \"A\",\"2\",\"3\",\"4\",\"5\",\"6\",\"7\",\"8\",\"9\",\"1\",\"J\",\"Q\",\"K\"])\n",
    "#order=np.array([\"A\",\"C\",\"2\",\"3\",\"4\",\"K\",\"4\",\"5\",\"3\",\"K\",\"K\",\"K\",\"b\",\"b\",\"b\",\"b\",\"b\",\"b\",\"b\",\"b\",\"b\",\"b\",\"b\",\"b\",\"b\",\"b\",\"b\",\"b\",\"b\",\"b\",\"b\",\"b\",\"b\",\"b\",\"b\",\"b\",\"b\",\"b\",\"b\",\"b\",\"b\",\"b\",\"b\",\"b\",\"b\",\"b\",\"b\",\"b\",\"b\",\"b\",\"b\",\"b\",\"b\",\"b\",\"b\",\"b\",\"b\",\"b\",\"b\",\"b\",\"b\",\"b\",\"b\",\"b\"])\n",
    "\n",
    "count=0\n",
    "\n",
    "for i in range(10000):\n",
    "    a=1\n",
    "    choosecard2=np.random.choice(card2, size=52,replace=False)\n",
    "    first2=[]\n",
    "    for x in choosecard2:\n",
    "        first2.append(x[0])\n",
    "    for j in range(52):   \n",
    "        if first2[j] == order[j]: \n",
    "            a=0\n",
    "    if a==1:\n",
    "        count=count+1\n",
    "result=count/10000\n",
    "print(\" the probability that you win is {:.3f}\".format(result))  \n",
    "        \n",
    "        \n"
   ]
  },
  {
   "cell_type": "markdown",
   "metadata": {},
   "source": [
    "***\n",
    "### D) Random motion\n",
    "\n",
    "Suppose that all city streets follow a grid layout, running north-south and east-west. You’re driving north when you decide to play a little game. Every time you reach an intersection, you randomly turn left or right, each with a 50 percent chance.\n",
    "\n",
    "After driving through 10 intersections, what is the probability that you are still driving north?\n"
   ]
  },
  {
   "cell_type": "markdown",
   "metadata": {},
   "source": [
    "I have 50% that I am still driving north. if there ia two intersections. After I pass the first intersection, I have 50% turn east or west. and in second intersection. I have 50% to turn north or south. It is the same that we repect this mothod for 5 times.\n"
   ]
  },
  {
   "cell_type": "markdown",
   "metadata": {},
   "source": [
    "***\n",
    "### E) More Random motion\n",
    "\n",
    "Now suppose that at every intersection, there’s a one-third chance you turn left, a one-third chance you turn right and a one-third chance you drive straight. Create a set of simulations that record which direction you're driving 11 times.  \n",
    "\n",
    "It is recommended that you save the results in a data frame of the form below:\n",
    "\n",
    "| Start | T1 | T2 | T3 | ... | T10 |\n",
    "| --- | --- |\n",
    "| N | E | N | W| ... | N |\n",
    "| N | W | W | S | ... | E|\n",
    "| N | W | N | E | ... | W|\n",
    "\n",
    "then create a plot where the $x$ axis is \"numbers of turns made\" from 0 to 10, and the $y$ axis is \"probability that you're driving North.\"\n"
   ]
  },
  {
   "cell_type": "code",
   "execution_count": null,
   "metadata": {},
   "outputs": [],
   "source": []
  },
  {
   "cell_type": "code",
   "execution_count": 4,
   "metadata": {},
   "outputs": [
    {
     "data": {
      "text/plain": [
       "[<matplotlib.lines.Line2D at 0x7fe4c0587730>]"
      ]
     },
     "execution_count": 4,
     "metadata": {},
     "output_type": "execute_result"
    },
    {
     "data": {
      "image/png": "[encoded data removed]",
      "text/plain": [
       "<Figure size 864x432 with 1 Axes>"
      ]
     },
     "metadata": {
      "needs_background": "light"
     },
     "output_type": "display_data"
    }
   ],
   "source": [
    "streetdecide= np.array([\"L\", \"R\",\"S\"])\n",
    "direction=\"N\"\n",
    "count=[0,0,0,0,0,0,0,0,0,0,0]\n",
    "for j in range(10000):\n",
    "    choose = np.random.choice(streetdecide, p=[1/3,1/3,1/3], size=11)\n",
    "    result=[]\n",
    "    result.append(\"N\")\n",
    "    for i in range(11):\n",
    "        if result[i]==\"N\":\n",
    "            count[i]=count[i]+1\n",
    "        if direction==\"N\" and choose[i]==\"L\":\n",
    "            result.append(\"W\")\n",
    "            direction=\"W\"\n",
    "        if direction==\"N\" and choose[i]==\"R\":\n",
    "            result.append(\"E\")\n",
    "            direction=\"E\"\n",
    "        if direction==\"N\" and choose[i]==\"S\":\n",
    "            result.append(\"N\")\n",
    "            direction=\"N\"\n",
    "        if direction==\"W\" and choose[i]==\"L\":\n",
    "            result.append(\"S\")\n",
    "            direction=\"S\"\n",
    "        if direction==\"W\" and choose[i]==\"R\":\n",
    "            result.append(\"N\")\n",
    "            direction=\"N\"\n",
    "        if direction==\"W\" and choose[i]==\"S\":\n",
    "            result.append(\"W\")\n",
    "            direction=\"W\"\n",
    "        if direction==\"E\" and choose[i]==\"L\":\n",
    "            result.append(\"N\")\n",
    "            direction=\"N\"\n",
    "        if direction==\"E\" and choose[i]==\"R\":\n",
    "            result.append(\"S\")\n",
    "            direction=\"S\"\n",
    "        if direction==\"E\" and choose[i]==\"S\":\n",
    "            result.append(\"E\")\n",
    "            direction=\"E\"\n",
    "        if direction==\"S\" and choose[i]==\"L\":\n",
    "            result.append(\"E\")\n",
    "            direction=\"E\"\n",
    "        if direction==\"S\" and choose[i]==\"R\":\n",
    "            result.append(\"W\")\n",
    "            direction=\"W\"\n",
    "        if direction==\"S\" and choose[i]==\"S\":\n",
    "            result.append(\"S\")\n",
    "            direction=\"S\"\n",
    "    \n",
    "for i in range(11):\n",
    "    count[i]=count[i]/10000\n",
    "\n",
    "\n",
    "fig, ax = plt.subplots(figsize=(12,6))\n",
    "ax.plot(count, color=\"steelblue\")\n",
    "        \n"
   ]
  },
  {
   "cell_type": "markdown",
   "metadata": {},
   "source": [
    "[Back to top](#top)\n",
    "<a/ id='p2'></a>\n",
    "\n",
    "## (20 pts) Problem 2 (Simulation and Theory): Bayes and Repeated Observations\n",
    "***\n",
    "\n",
    "\n",
    "To play a game, you have a bag containing 25 fair six-sided dice, with faces `{1,2,3,4,5,6}`.  <img style=\"float: right; width: 200px; padding: 3mm;\" src=\"https://images-na.ssl-images-amazon.com/images/I/619NZnvxJaL._SX425_.jpg\" alt=\"Drawing\"/>\n",
    "This bag also contains 10 fair eight-sided dice (faces `{1,2,3,4,5,6,7,8}`) and 2 fair twenty-sided dice (faces `{1,2,3,4,...,19,20}`).  Call these 3 classes of die \"Six\", \"Eight\" and \"Twenty\" (or S, E, and T, for short). In order to be sure that you are not distinguishing dice by their feel, you are required to wear crab claw gloves. After donning your gloves, you grab one die at random from the bag. \n",
    "\n",
    "Work the following problems by hand (or claw) unless otherwise stated (but don't be afraid to simulate to check your result!). "
   ]
  },
  {
   "cell_type": "markdown",
   "metadata": {},
   "source": [
    "***\n",
    "### Part A: You roll your die one time.  What is the probability of the event $R_7$, that you roll a 7?  Include at least 4 decimal places in your answer."
   ]
  },
  {
   "cell_type": "markdown",
   "metadata": {},
   "source": [
    "$$P=P(7\\mid E)*P(E) + P(7 \\mid T)*P(T)$$\n",
    "$$P=\\frac{1}{8}*\\frac{8}{37} + \\frac{1}{37}*\\frac{2}{37}$$\n",
    "$$P=0.0297$$\n"
   ]
  },
  {
   "cell_type": "markdown",
   "metadata": {},
   "source": []
  },
  {
   "cell_type": "markdown",
   "metadata": {},
   "source": [
    "***\n",
    "### Part B: Suppose you roll a 7.  What is the probability that the die you chose from the bag is an Eight-sided die? "
   ]
  },
  {
   "cell_type": "markdown",
   "metadata": {},
   "source": [
    "$$P(E \\mid 7)=\\frac{P(7\\mid E)*P(E)}{P(7)}$$\n",
    "$$p=0.0910$$"
   ]
  },
  {
   "cell_type": "markdown",
   "metadata": {},
   "source": [
    "***\n",
    "### Part C: Are the events $R_7$ and $E$ independent?  Justify your answer **using math**."
   ]
  },
  {
   "cell_type": "markdown",
   "metadata": {},
   "source": [
    "it is not independent \n",
    "$$If it is independent P(E\\mid R7) == P(E) and P(R7\\mid E) = P(R7)$$\n",
    "$$P(E\\mid 7)=0.0910$$\n",
    "$$P(E)=0.216$$\n",
    "$$ so P(E\\mid R7) !=P(E)$$"
   ]
  },
  {
   "cell_type": "markdown",
   "metadata": {},
   "source": [
    "*** \n",
    "### Part D:  Suppose you roll your die $n$ times and record each outcome.  Obviously, if you roll 7 or 8 you know you did *not* pick a Six-sided die, and if you roll a 9 or higher, you must have picked a Twenty-sided die.\n",
    "\n",
    "But, if you roll $n$ times in a row and get only 1, 2, 3, 4, 5, or 6 you would have a stronger belief that you in fact grabbed one of the Six-sided dice.  Let $L_n$ be the event that you roll $n$ rolls of 1, 2, 3, 4, 5, or 6 in a row.  For example, one outcome in $L_3$ is the sequence 2, 3, 1.\n",
    "\n",
    "Given that you roll a single value of 1, 2, 3, 4, 5, or 6, what is the probability that you have grabbed a Six-sided die?  That is, calculate **by hand** $P(S \\mid L_1)$."
   ]
  },
  {
   "cell_type": "markdown",
   "metadata": {},
   "source": [
    "$$ P(S \\mid L_1)=\\frac{P(L_1\\mid S )*P( S )}{P(L_1)}$$\n",
    "$$P(L_1)=\\frac{25}{37}*1+\\frac{10}{37}*\\frac{6}{8}+\\frac{2}{37}*\\frac{6}{20}$$\n",
    "$$P(L_1\\mid S)=1$$\n",
    "$$P( S )=\\frac{25}{37}$$\n",
    "$$P(S \\mid L_1)=0.7553$$"
   ]
  },
  {
   "cell_type": "markdown",
   "metadata": {},
   "source": [
    "***\n",
    "### Part E:  \n",
    "\n",
    "First, work out **by hand** a formula for the probability in general that you are rolling a Six-sided die, given that you have rolled $n$ values in a row that are 1, 2, 3, 4, 5 or 6 (that is, $L_n$).  So you want a formula for $P(S \\mid L_n)$ in terms of $n$.\n",
    "\n",
    "Then, define a function `prob_six` to calculate $P(S \\mid L_n)$.  This function should only take one positive integer argument, $n$.\n",
    "\n",
    "Verify that your function is performing as expected by checking your answer to **Part D**."
   ]
  },
  {
   "cell_type": "markdown",
   "metadata": {},
   "source": [
    "$$P(S \\mid L_n)=P(S \\mid L_1)+P(S \\mid L_2)+P(S \\mid L_3)+P(S \\mid L_4)+P(S \\mid L_5)+P(S \\mid L_6)$$\n",
    "$$ P(S \\mid L_n)=\\frac{P(L_n\\mid S )*P( S )}{P(L_n)}$$"
   ]
  },
  {
   "cell_type": "code",
   "execution_count": 5,
   "metadata": {},
   "outputs": [
    {
     "name": "stdout",
     "output_type": "stream",
     "text": [
      "0.7552870090634441\n"
     ]
    }
   ],
   "source": [
    "def prob_six(n):\n",
    "    PLn=(25/37)+((10/37)*(6/8)**n)+((2/37)*(6/20)**n)\n",
    "    result=(25/37)/PLn\n",
    "    return result\n",
    "    \n",
    "# Verification of Part D answer:  plug in n=1\n",
    "print(prob_six(1))"
   ]
  },
  {
   "cell_type": "markdown",
   "metadata": {},
   "source": [
    "***\n",
    "### Part F:  What is the smallest value of $n$ successive rolls of 1, 2, 3, 4, 5 or 6 that would make you believe that there's a better-than-95% chance that the die you grabbed is Six-sided?  Plugging larger and larger values for $n$ into your `prob_six` function is a very reasonable way to check this."
   ]
  },
  {
   "cell_type": "code",
   "execution_count": 6,
   "metadata": {},
   "outputs": [
    {
     "name": "stdout",
     "output_type": "stream",
     "text": [
      "0.9614918524668586\n",
      " the smallest value of  𝑛  successive rolls is 8.000\n"
     ]
    }
   ],
   "source": [
    "print(prob_six(8))\n",
    "print(\" the smallest value of  𝑛  successive rolls is {:.3f}\".format(8))\n"
   ]
  },
  {
   "cell_type": "markdown",
   "metadata": {},
   "source": [
    "[Back to top](#top)\n",
    "<a/ id='p3'></a>\n",
    "\n",
    "## (5 pts) Problem 3 (Theory): It's probably Bayes\n",
    "***\n"
   ]
  },
  {
   "cell_type": "markdown",
   "metadata": {},
   "source": [
    "To get published in an academic journal, you have to prove something \"interesting.\"  As a result, most academics begin their research by investigating hypotheses that, all else equal, are unlikely to be true.  Suppose each research project begins with a research *hypothesis* that has a 7% chance of being correct.\n",
    "\n",
    "They then perform a study that satisfies the following two properties:\n",
    "\n",
    "    1) The probability that they correctly *find* an important result given that their *hypothesis* is true is 50%\n",
    "    2) The probability that they incorrectly *find* an important result given that their *hypothesis* is false is 5%\n",
    "\n",
    "If they *find* an important result they are published.  What is the probability that their *hypothesis* was true, given that they were published?"
   ]
  },
  {
   "cell_type": "markdown",
   "metadata": {},
   "source": [
    "**Typeset your solution for Problem 1 in this cell or cells.**\n",
    "HT== hypothesis was true\n",
    "$$ P(HT \\mid Published )=\\frac{P(Published \\mid HT )*P( HT )}{P(Pulished)}$$\n",
    "$$ P(HT \\mid Published )=\\frac{0.5*0.07}{0.5 * 0.07+0.93*0.05}$$\n",
    "$$ P(HT \\mid Published )=0.4294$$"
   ]
  },
  {
   "cell_type": "markdown",
   "metadata": {},
   "source": [
    "[Back to top](#top)"
   ]
  }
 ],
 "metadata": {
  "kernelspec": {
   "display_name": "Python 3",
   "language": "python",
   "name": "python3"
  },
  "language_info": {
   "codemirror_mode": {
    "name": "ipython",
    "version": 3
   },
   "file_extension": ".py",
   "mimetype": "text/x-python",
   "name": "python",
   "nbconvert_exporter": "python",
   "pygments_lexer": "ipython3",
   "version": "3.8.5"
  }
 },
 "nbformat": 4,
 "nbformat_minor": 2
}
