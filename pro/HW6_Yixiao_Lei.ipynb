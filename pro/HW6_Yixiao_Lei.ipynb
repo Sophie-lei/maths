{
 "cells": [
  {
   "cell_type": "markdown",
   "metadata": {},
   "source": [
    "<a id='top'></a>\n",
    "\n",
    "# CSCI3022 S21\n",
    "# Homework 6: Testing\n",
    "***\n",
    "\n",
    "**Name**: ______Yixiao Lei__________________________________________________________________\n",
    "\n",
    "***\n",
    "\n",
    "This assignment is due on Canvas by **MIDNIGHT on Friday, April 15**. Your solutions to theoretical questions should be done in Markdown directly below the associated question.  Your solutions to computational questions should include any specified Python code and results as well as written commentary on your conclusions.  Remember that you are encouraged to discuss the problems with your classmates, but **you must write all code and solutions on your own**.\n",
    "\n",
    "**NOTES**: \n",
    "\n",
    "- Any relevant data sets should be available on Canvas. To make life easier on the graders if they need to run your code, do not change the relative path names here. Instead, move the files around on your computer.\n",
    "- If you're not familiar with typesetting math directly into Markdown then by all means, do your work on paper first and then typeset it later.  Here is a [reference guide](https://math.meta.stackexchange.com/questions/5020/mathjax-basic-tutorial-and-quick-reference) linked on Canvas on writing math in Markdown. **All** of your written commentary, justifications and mathematical work should be in Markdown.  I also recommend the [wikibook](https://en.wikibooks.org/wiki/LaTeX) for LaTex.\n",
    "- Because you can technically evaluate notebook cells is a non-linear order, it's a good idea to do **Kernel $\\rightarrow$ Restart & Run All** as a check before submitting your solutions.  That way if we need to run your code you will know that it will work as expected. \n",
    "- It is **bad form** to make your reader interpret numerical output from your code.  If a question asks you to compute some value from the data you should show your code output **AND** write a summary of the results in Markdown directly below your code. \n",
    "- 45 points of this assignment are in problems.  The remaining 5 are for neatness, style, and overall exposition of both code and text.\n",
    "- This probably goes without saying, but... For any question that asks you to calculate something, you **must show all work and justify your answers to receive credit**. Sparse or nonexistent work will receive sparse or nonexistent credit. \n",
    "\n",
    "---\n",
    "**Shortcuts:**  [Problem 1](#p1) | [Problem 2](#p2) | [Problem 3](#p3) |\n",
    "---"
   ]
  },
  {
   "cell_type": "code",
   "execution_count": 1,
   "metadata": {},
   "outputs": [],
   "source": [
    "import pandas as pd\n",
    "import numpy as np\n",
    "import matplotlib.pylab as plt\n",
    "import scipy.stats as stats\n",
    "%matplotlib inline"
   ]
  },
  {
   "cell_type": "markdown",
   "metadata": {},
   "source": [
    "<br>\n",
    "\n",
    "---\n",
    "<a/ id='p1'></a>\n",
    "[Back to top](#top)\n",
    "## [25 points] Problem 1 - Mins or Maxs?\n",
    "\n",
    "It's a common data science and numeric problem to need to find **best** estimators, which often represent maximums of \"value\" functions or minimums of \"loss\" functions.  In this problem we explore the way that minimums and maximums interact with one another.\n",
    "\n",
    "Consider rolling some fair, independent, 10-sided dice, with faces [1,2,3,...,10].\n",
    "\n",
    "#### Part a) Maximums\n",
    "\n",
    "Suppose we roll 2 such 10-sided die.  Denote $M:=$ the maximum of the two rolls (we will refer to this as the roller having \"advantage\" when trying to achieve a high roll in a die-rolling game).\n",
    "\n",
    "i) Use markdown to express the exact pdf of $M$.\n",
    "\n",
    "ii) Print the expected value of $M$.\n",
    "\n",
    "iii) Print the variance of $M$.\n"
   ]
  },
  {
   "cell_type": "markdown",
   "metadata": {},
   "source": [
    "$$\n",
    "f(x) = \\begin{cases}\n",
    "         \\frac{19}{100}&              M=10\\\\\n",
    "         \\frac{17}{100} &              M=9\\\\\n",
    "         \\frac{15}{100} &              M=8\\\\\n",
    "         \\frac{13}{100} &              M=7\\\\\n",
    "         \\frac{11}{100} &              M=6\\\\\n",
    "         \\frac{9}{100} &              M=5\\\\\n",
    "         \\frac{7}{100} &              M=4\\\\\n",
    "         \\frac{5}{100} &              M=3\\\\\n",
    "         \\frac{3}{100} &              M=2\\\\\n",
    "         \\frac{1}{100} &              M=1\\\\\n",
    "       \\end{cases}\n",
    "$$"
   ]
  },
  {
   "cell_type": "code",
   "execution_count": 2,
   "metadata": {},
   "outputs": [
    {
     "name": "stdout",
     "output_type": "stream",
     "text": [
      "the expected value of  𝑀 is 7.15\n",
      "Var(M) = E(M2) - [E(M)]2 = 56.65 - 7.152 = 5.5275\n"
     ]
    }
   ],
   "source": [
    "print(\"the expected value of  𝑀 is 7.15\" )\n",
    "print(\"Var(M) = E(M2) - [E(M)]2 = 56.65 - 7.152 = 5.5275\")"
   ]
  },
  {
   "cell_type": "markdown",
   "metadata": {},
   "source": [
    "\n",
    "#### Part b) Min-Max\n",
    "\n",
    "In the rest of this problem, we'll explore tacking **both** a minimum and a maximum.  In particular, we define the experiment of *min-max*, in which we compute the minimum of two maximum rolls.  Formally: we roll 2 dice and record their maximum $M_1$, then roll 2 more dice and record their maximum $M_2$.  Finally, we denote $mM:=$ the mimimun of the two $M_1$ and $M_2$ rolls.  We may refer to this as \"disadvantage-of-advantage.\"\n",
    "\n",
    "Set up a function to simulate $n=10^4$ draws from the $mM$ random variable.  Then, *simulate* and/or *bootstrap* with your function to answer the following:\n",
    "\n",
    "i) What is the pdf of $mM$?  Plot it as a histogram.\n",
    "\n",
    "ii) What is the expected value of $mM$?\n",
    "\n",
    "iii) What is the probability that an $mM$ random variable returns a value greater then 5? Construct both a point estimate and a 90\\% confidence interval for this value.\n",
    "\n",
    "For the bootstrapped CI in iii, it is recommended you group your $10^4$ trials into 100 groups of 100 trials in order to construct a distribution of sample probabilities."
   ]
  },
  {
   "cell_type": "code",
   "execution_count": 3,
   "metadata": {},
   "outputs": [],
   "source": [
    "Data=[1, 2, 3, 4, 5, 6, 7, 8, 9,10]\n"
   ]
  },
  {
   "cell_type": "code",
   "execution_count": 4,
   "metadata": {},
   "outputs": [],
   "source": [
    "def mimimun(sample, num_boots=10000):\n",
    "    an=[]\n",
    "    for ii in range(num_boots):\n",
    "        \n",
    "        b = np.random.choice(sample)\n",
    "        a = np.random.choice(sample)\n",
    "        c = np.random.choice(sample)\n",
    "        d = np.random.choice(sample)\n",
    "        if a>=b:\n",
    "            e=a\n",
    "        else:\n",
    "            e=b\n",
    "        if c>=d:\n",
    "            f=c\n",
    "        else:\n",
    "            f=d\n",
    "        if e>=f:\n",
    "            an.append(f);\n",
    "        else:\n",
    "            an.append(e);\n",
    "    return an;\n",
    "            \n",
    "            \n",
    "            \n",
    "            "
   ]
  },
  {
   "cell_type": "code",
   "execution_count": 5,
   "metadata": {},
   "outputs": [
    {
     "data": {
      "text/plain": [
       "<AxesSubplot:>"
      ]
     },
     "execution_count": 5,
     "metadata": {},
     "output_type": "execute_result"
    },
    {
     "data": {
      "image/png": "[encoded data removed]",
      "text/plain": [
       "<Figure size 864x432 with 1 Axes>"
      ]
     },
     "metadata": {
      "needs_background": "light"
     },
     "output_type": "display_data"
    }
   ],
   "source": [
    "b=mimimun(Data)\n",
    "su=0\n",
    "for ii in b:\n",
    "    if ii ==20:\n",
    "        su=su+1\n",
    "p=su/len(b)\n",
    "fig, ax = plt.subplots(nrows=1, ncols=1, figsize=(12,6))\n",
    "pd.Series(b).hist(ax=ax, color=\"steelblue\", edgecolor=\"white\", bins=20)"
   ]
  },
  {
   "cell_type": "code",
   "execution_count": 6,
   "metadata": {},
   "outputs": [
    {
     "data": {
      "text/plain": [
       "0.0"
      ]
     },
     "execution_count": 6,
     "metadata": {},
     "output_type": "execute_result"
    }
   ],
   "source": [
    "\n",
    "p"
   ]
  },
  {
   "cell_type": "code",
   "execution_count": 7,
   "metadata": {},
   "outputs": [
    {
     "data": {
      "text/plain": [
       "5.8481"
      ]
     },
     "execution_count": 7,
     "metadata": {},
     "output_type": "execute_result"
    }
   ],
   "source": [
    "a=np.mean(b)\n",
    "a"
   ]
  },
  {
   "cell_type": "code",
   "execution_count": 8,
   "metadata": {},
   "outputs": [],
   "source": [
    "def bootstrapped_mean(sample, num_boots=100):\n",
    "    pro=[]\n",
    "    for ii in range(num_boots):\n",
    "        b=np.array(np.random.choice(sample, replace=True, size=100))\n",
    "        su=0\n",
    "        for k in b:\n",
    "            if k>5:\n",
    "                su=su+1\n",
    "        p=su/100\n",
    "        pro.append(p)\n",
    "    L, U = np.percentile(pro, 5), np.percentile(pro, 95)\n",
    "    CI = np.array([L, U])\n",
    "    return CI\n",
    "    "
   ]
  },
  {
   "cell_type": "code",
   "execution_count": 9,
   "metadata": {},
   "outputs": [
    {
     "data": {
      "text/plain": [
       "array([0.49  , 0.6405])"
      ]
     },
     "execution_count": 9,
     "metadata": {},
     "output_type": "execute_result"
    }
   ],
   "source": [
    "bootstrapped_mean(b)"
   ]
  },
  {
   "cell_type": "markdown",
   "metadata": {},
   "source": [
    "\n",
    "#### Part c) Max-min\n",
    "\n",
    "Now, define the experiment of *max-min*, in which we compute the maximum of two minumum rolls.  Formally: we roll 2 dice and record their minimum $m_1$, then roll 2 more dice and record their minimum $m_2$.  Finally, we denote $Mm:=$ the maximum of the two $m_1$ and $m_2$ rolls.  We may refer to this as \"advantage-of-disadvantage.\"\n",
    "\n",
    "Set up a function to simulate $n$ draws from the $Mm$ random variable.  Then, *simulate* and/or *bootstrap* with your function to answer the following:\n",
    "\n",
    "i) What is the pdf of $Mm$?  Plot it as a histogram.\n",
    "\n",
    "ii) What is the expected value of $Mm$?\n",
    "\n",
    "iii) What is the probability that an $Mm$ random variable returns a value greater then 5?   Construct both a point estimate and a 90\\% confidence interval for this value.\n",
    "\n",
    "\n"
   ]
  },
  {
   "cell_type": "code",
   "execution_count": 10,
   "metadata": {},
   "outputs": [],
   "source": [
    "Data=[1, 2, 3, 4, 5, 6, 7, 8, 9,10]"
   ]
  },
  {
   "cell_type": "code",
   "execution_count": 11,
   "metadata": {},
   "outputs": [],
   "source": [
    "def maximun(sample, num_boots=10000):\n",
    "    an=[]\n",
    "    for ii in range(num_boots):\n",
    "        \n",
    "        b = np.random.choice(sample)\n",
    "        a = np.random.choice(sample)\n",
    "        c = np.random.choice(sample)\n",
    "        d = np.random.choice(sample)\n",
    "        if a>=b:\n",
    "            e=b\n",
    "        else:\n",
    "            e=a\n",
    "        if c>=d:\n",
    "            f=d\n",
    "        else:\n",
    "            f=c\n",
    "        if e>=f:\n",
    "            an.append(e);\n",
    "        else:\n",
    "            an.append(f);\n",
    "    return an;\n",
    "            "
   ]
  },
  {
   "cell_type": "code",
   "execution_count": 12,
   "metadata": {},
   "outputs": [
    {
     "data": {
      "text/plain": [
       "<AxesSubplot:>"
      ]
     },
     "execution_count": 12,
     "metadata": {},
     "output_type": "execute_result"
    },
    {
     "data": {
      "image/png": "[encoded data removed]",
      "text/plain": [
       "<Figure size 864x432 with 1 Axes>"
      ]
     },
     "metadata": {
      "needs_background": "light"
     },
     "output_type": "display_data"
    }
   ],
   "source": [
    "b=maximun(Data)\n",
    "fig, ax = plt.subplots(nrows=1, ncols=1, figsize=(12,6))\n",
    "pd.Series(b).hist(ax=ax, color=\"steelblue\", edgecolor=\"white\", bins=20)"
   ]
  },
  {
   "cell_type": "code",
   "execution_count": 13,
   "metadata": {},
   "outputs": [
    {
     "data": {
      "text/plain": [
       "5.1402"
      ]
     },
     "execution_count": 13,
     "metadata": {},
     "output_type": "execute_result"
    }
   ],
   "source": [
    "a=np.mean(b)\n",
    "a"
   ]
  },
  {
   "cell_type": "code",
   "execution_count": 14,
   "metadata": {},
   "outputs": [],
   "source": [
    "def bootstrapped_mean(sample, num_boots=100):\n",
    "    pro=[]\n",
    "    for ii in range(num_boots):\n",
    "        b=np.array(np.random.choice(sample, replace=True, size=100))\n",
    "        su=0\n",
    "        for k in b:\n",
    "            if k>5:\n",
    "                su=su+1\n",
    "        p=su/100\n",
    "        pro.append(p)\n",
    "    L, U = np.percentile(pro, 5), np.percentile(pro, 95)\n",
    "    CI = np.array([L, U])\n",
    "    return CI"
   ]
  },
  {
   "cell_type": "code",
   "execution_count": 15,
   "metadata": {},
   "outputs": [
    {
     "data": {
      "text/plain": [
       "array([0.379 , 0.5005])"
      ]
     },
     "execution_count": 15,
     "metadata": {},
     "output_type": "execute_result"
    }
   ],
   "source": [
    "bootstrapped_mean(b)"
   ]
  },
  {
   "cell_type": "markdown",
   "metadata": {},
   "source": [
    "\n",
    "#### Part d) Discussion\n",
    "\n",
    "Taking a look at your work in parts c or d, use full English sentences to answer the following:\n",
    "\n",
    "i) In general, which returns a higher value: the maximum of minimums or the minimum of maximums?\n",
    "\n",
    "ii) Is there ever a case to prefer a min-of-max rather than a max-of-mins?  Suppose the goal is to return \"a 2 or higher\", which do we prefer?  Is this a different best choice from the goal of \"need to return exactly a 20?\"\n",
    "\n",
    "iii) What happens if the number of rolls in the selection increases?  For example, if I roll 100 dice in total, and take as my random variable the minimum of 10 sets of 10 maximums, how should this differ from the distribution in part b)?  You may simulate to verify your result, but should try to explain in plain English either way?"
   ]
  },
  {
   "cell_type": "markdown",
   "metadata": {},
   "source": [
    "i)in general: the mimimun of the two Maximums is bigger.\n",
    "ii)to return \"a 2 or higher\", we prefer  a min-of-max. there is no difference between return exact a 20.because the 20 will not come out\n",
    "iii) There will be a right skew graph.\n",
    "\n"
   ]
  },
  {
   "cell_type": "code",
   "execution_count": 16,
   "metadata": {},
   "outputs": [],
   "source": [
    "Data=[1, 2, 3, 4, 5, 6, 7, 8, 9,10]\n",
    "        "
   ]
  },
  {
   "cell_type": "code",
   "execution_count": 17,
   "metadata": {},
   "outputs": [],
   "source": [
    "def new(sample, num_boots=10000):\n",
    "    p=[]\n",
    "    for ii in range(num_boots):\n",
    "            b=np.array(np.random.choice(sample, replace=True, size=10))\n",
    "            b.sort()\n",
    "            p.append(b[9])\n",
    "    \n",
    "    return  p\n",
    "    \n",
    "    \n",
    "        \n",
    "            \n",
    "            \n",
    "            \n",
    "            "
   ]
  },
  {
   "cell_type": "code",
   "execution_count": 18,
   "metadata": {},
   "outputs": [
    {
     "data": {
      "text/plain": [
       "<AxesSubplot:>"
      ]
     },
     "execution_count": 18,
     "metadata": {},
     "output_type": "execute_result"
    },
    {
     "data": {
      "image/png": "[encoded data removed]",
      "text/plain": [
       "<Figure size 864x432 with 1 Axes>"
      ]
     },
     "metadata": {
      "needs_background": "light"
     },
     "output_type": "display_data"
    }
   ],
   "source": [
    "b=new(Data)\n",
    "fig, ax = plt.subplots(nrows=1, ncols=1, figsize=(12,6))\n",
    "pd.Series(b).hist(ax=ax, color=\"steelblue\", edgecolor=\"white\", bins=20)"
   ]
  },
  {
   "cell_type": "markdown",
   "metadata": {},
   "source": [
    "<br>\n",
    "\n",
    "---\n",
    "<a/ id='p2'></a>\n",
    "[Back to top](#top)\n",
    "## [10 points] Problem 2 - A (very) small sample hypothesis test\n",
    "\n",
    "We're counting birds outside our work-from-home offices, and recording $X$, the number that pass between 2p-3p.  Let $X \\sim \\mathcal{P}(\\lambda)$. Suppose that we want to test the null hypothesis that $\\lambda = 15$, and the alternative hypothesis is that $\\lambda > 15$. Since we're just starting today, our sample size for this test is equal to 1.\n",
    "\t\n",
    "#### Part a)\n",
    " \n",
    "Naturally for a hypothesis test we might come up with a rejection region. Here, we will reject the null hypothesis if $X$ is greater than some number $c$ that represents \"too many birds\" for a process of $\\lambda = 15$. What value should we choose for $c$ such that the probability of a type I error is equal to $0.05$?\n",
    "\n",
    "(NB: for a discrete R.V., we more precisely ensure that P(Type I error) *is not more than* $0.05$)\n"
   ]
  },
  {
   "cell_type": "code",
   "execution_count": 19,
   "metadata": {},
   "outputs": [
    {
     "name": "stdout",
     "output_type": "stream",
     "text": [
      "because p<0.95<k, we should choose c as 22 \n"
     ]
    }
   ],
   "source": [
    "from scipy.stats import poisson\n",
    "p=poisson.cdf(21, 15)\n",
    "k=poisson.cdf(22, 15)\n",
    "\n",
    "print(\"because p<0.95<k, we should choose c as 22 \")\n"
   ]
  },
  {
   "cell_type": "markdown",
   "metadata": {},
   "source": [
    "\n",
    "#### Part b)\n",
    "\n",
    "If in reality, $\\lambda$ is *actually* equal to 20, what is the probability of making a type 2 error using the cut-off point from (a)?\n",
    "    \n",
    "    "
   ]
  },
  {
   "cell_type": "code",
   "execution_count": 20,
   "metadata": {},
   "outputs": [
    {
     "name": "stdout",
     "output_type": "stream",
     "text": [
      "probability of typeII error is  0.7206113431260256\n"
     ]
    }
   ],
   "source": [
    "k=poisson.cdf(22, 20)\\\n",
    "\n",
    "print(\"probability of typeII error is \",k)"
   ]
  },
  {
   "cell_type": "markdown",
   "metadata": {},
   "source": [
    "<br>\n",
    "\n",
    "---\n",
    "<a/ id='p3'></a>\n",
    "[Back to top](#top)\n",
    "## [10 points] Problem 3 - The power!\n",
    "\n",
    "\n",
    "Let $Y$ be the number of heads in 100 tosses of a possibly biased coin, with probability of heads on any toss $p$. Similar to the Belgian Euro example, we hope to *test* whether the coin is biased **toward heads**.\n",
    "\n",
    "#### Part a)\n",
    "\n",
    "State the null and alternative hypotheses.\n"
   ]
  },
  {
   "cell_type": "markdown",
   "metadata": {},
   "source": [
    "p is the probability of heads on any toss, Null hypothesis that $p = 0.5 $, and the alternative hypothesis is that $p > 0.5 $. "
   ]
  },
  {
   "cell_type": "markdown",
   "metadata": {},
   "source": [
    "\n",
    "#### Part b)\n",
    "Suppose we define the rejection region to be $Y > 58$. \n",
    "\n",
    "Calculate the rate of type I error of this test. (For this, and all remaining parts, calculate probabilities **exactly**, i.e., without using a normal approximation)\n"
   ]
  },
  {
   "cell_type": "code",
   "execution_count": 21,
   "metadata": {},
   "outputs": [
    {
     "name": "stdout",
     "output_type": "stream",
     "text": [
      "typeI error is  0.04431304005703374\n"
     ]
    }
   ],
   "source": [
    "from scipy.stats import binom\n",
    "p=binom.cdf(58, 100, 0.5)\n",
    "py=1-p\n",
    "\n",
    "print(\"typeI error is \",py)"
   ]
  },
  {
   "cell_type": "markdown",
   "metadata": {},
   "source": [
    "\n",
    "#### Part c)\n",
    "\n",
    "Simulate a single dataset (or appropriate summary of a dataset) under the null hypothesis, and apply your test from part (a). State your conclusion. Is your conclusion in error? If so, which type?\n",
    "\n",
    "Repeat this process 1000 times in total and verify that the error rate appears consistent with your calculations in part b).\n"
   ]
  },
  {
   "cell_type": "code",
   "execution_count": 22,
   "metadata": {},
   "outputs": [],
   "source": [
    "coin = np.array([\"H\", \"T\"])\n",
    "sum=0\n",
    "for i in range(1000):\n",
    "    flips = np.array(np.random.choice(coin , p=[0.5, 0.5],size=100))\n",
    "    approx_prob_heads = np.sum(flips == \"H\") \n",
    "    if approx_prob_heads > 58:\n",
    "        sum=sum+1\n",
    "\n",
    "p=sum/1000\n",
    "        \n"
   ]
  },
  {
   "cell_type": "code",
   "execution_count": 23,
   "metadata": {},
   "outputs": [
    {
     "data": {
      "text/plain": [
       "0.04"
      ]
     },
     "execution_count": 23,
     "metadata": {},
     "output_type": "execute_result"
    }
   ],
   "source": [
    "p"
   ]
  },
  {
   "cell_type": "markdown",
   "metadata": {},
   "source": [
    "\n",
    "#### Part d)\n",
    "Consider that the *reality* of a biased coin could take on any number of possible different values of actual bias $p$.  Construct a grid/list of possible values $p$ for the alternative hypothesis $p_{alt}=[0.51,0.52,0.53, \\dots .99, 1.00]$.\n",
    "\n",
    "For each value of $p$ in this list, calculate the power of the test from part $a$.  Return exact values rather than simulated/estimated probabilities.\n",
    "\n",
    "(Recall: statistical **power** is the probability of rejecting the null hypothesis while the alternative hypothesis is true). \n",
    "\n",
    "Plot the power ($y$-axis) against $p$ ($x$-axis) over each of these scenarios. \n",
    "\n",
    "Interpret/comment on this plot. Specifically, as $p$ gets *further* from the specified $p=p_0$ under the null hypothesis, what happens to the power?"
   ]
  },
  {
   "cell_type": "code",
   "execution_count": 24,
   "metadata": {},
   "outputs": [],
   "source": [
    "import decimal\n",
    "from scipy.stats import binom\n",
    "def bi(sample):\n",
    "    p=binom.cdf(58, 100, sample)\n",
    "    py=1-p\n",
    "    return py\n",
    "  \n",
    "\n",
    "\n",
    "\n"
   ]
  },
  {
   "cell_type": "code",
   "execution_count": 25,
   "metadata": {},
   "outputs": [
    {
     "data": {
      "text/plain": [
       "<matplotlib.collections.PathCollection at 0x7fe1b829d610>"
      ]
     },
     "execution_count": 25,
     "metadata": {},
     "output_type": "execute_result"
    },
    {
     "data": {
      "image/png": "[encoded data removed]",
      "text/plain": [
       "<Figure size 864x432 with 1 Axes>"
      ]
     },
     "metadata": {
      "needs_background": "light"
     },
     "output_type": "display_data"
    }
   ],
   "source": [
    "def float_range(start, stop, step):\n",
    "    while start < stop:\n",
    "        yield float(start)\n",
    "        start += decimal.Decimal(step)\n",
    "\n",
    "sample=[0.51,0.52,0.53,0.54,0.55,0.56,0.57,0.58,0.59,\n",
    "        0.60,0.61,0.62,0.63,0.64,0.65,0.66,0.67,0.68,0.69,\n",
    "        0.70,0.71,0.72,0.73,0.74,0.75,0.76,0.77,0.78,0.79,\n",
    "        0.80,0.81,0.82,0.83,0.84,0.85,0.86,0.87,0.88,0.89,\n",
    "        0.91,0.92,0.93,0.94,0.95,0.96,0.97,0.98,0.99,1.00]\n",
    "fig, ax = plt.subplots(nrows=1, ncols=1, figsize=(12,6))\n",
    "ax.scatter(x=sample,y=bi(sample),c=\"blue\")"
   ]
  },
  {
   "cell_type": "markdown",
   "metadata": {},
   "source": [
    "as 𝑝  gets further from the specified  𝑝=𝑝0  under the null hypothesis, the power goes up."
   ]
  },
  {
   "cell_type": "markdown",
   "metadata": {},
   "source": [
    "#### Part e)\n",
    "\n",
    "(e) Suppose we allowed other rejection regions than $Y>58$.  Use the ideas in part (d) to answer the following: how many flips $m$ of a coin are necessary to achieve both $\\alpha=0.05$ **and** $\\beta=0.05$ for the hypothesis in part (a)?"
   ]
  },
  {
   "cell_type": "code",
   "execution_count": 26,
   "metadata": {},
   "outputs": [],
   "source": [
    "pro=1-binom.cdf(62, 100, 0.5)"
   ]
  },
  {
   "cell_type": "code",
   "execution_count": 28,
   "metadata": {},
   "outputs": [],
   "source": [
    "b=binom.cdf(62, 100, 0.7)"
   ]
  },
  {
   "cell_type": "code",
   "execution_count": 30,
   "metadata": {},
   "outputs": [
    {
     "name": "stdout",
     "output_type": "stream",
     "text": [
      "flips 62 of a coin are necessary\n"
     ]
    }
   ],
   "source": [
    "print(\"flips 62 of a coin are necessary\")"
   ]
  }
 ],
 "metadata": {
  "kernelspec": {
   "display_name": "Python 3",
   "language": "python",
   "name": "python3"
  },
  "language_info": {
   "codemirror_mode": {
    "name": "ipython",
    "version": 3
   },
   "file_extension": ".py",
   "mimetype": "text/x-python",
   "name": "python",
   "nbconvert_exporter": "python",
   "pygments_lexer": "ipython3",
   "version": "3.8.5"
  }
 },
 "nbformat": 4,
 "nbformat_minor": 2
}
